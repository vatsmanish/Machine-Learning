{
 "cells": [
  {
   "cell_type": "code",
   "execution_count": 2,
   "metadata": {
    "ExecuteTime": {
     "end_time": "2020-01-08T06:29:00.336343Z",
     "start_time": "2020-01-08T06:28:59.571526Z"
    }
   },
   "outputs": [],
   "source": [
    "import numpy as np\n",
    "import pandas as pd\n",
    "import matplotlib as pyplot\n",
    "#For test-train split\n",
    "from sklearn.model_selection import train_test_split"
   ]
  },
  {
   "cell_type": "code",
   "execution_count": 4,
   "metadata": {
    "ExecuteTime": {
     "end_time": "2020-01-08T06:27:24.308646Z",
     "start_time": "2020-01-08T06:27:24.301628Z"
    }
   },
   "outputs": [],
   "source": [
    "import os\n",
    "\n",
    "data=pd.read_csv('iris.csv')"
   ]
  },
  {
   "cell_type": "code",
   "execution_count": 5,
   "metadata": {},
   "outputs": [],
   "source": [
    "from sklearn.model_selection import train_test_split\n",
    "train_X, test_X, train_y, test_y = train_test_split(data.iloc[:,:-1], data.iloc[:,-1], test_size = 0.3, stratify=data.iloc[:,-1], random_state = 13)"
   ]
  },
  {
   "cell_type": "code",
   "execution_count": 6,
   "metadata": {
    "ExecuteTime": {
     "end_time": "2020-01-08T06:23:29.769375Z",
     "start_time": "2020-01-08T06:23:29.753697Z"
    }
   },
   "outputs": [],
   "source": [
    "#eculiean distance\n",
    "def Eu_dist(x1,x2):\n",
    "    return (np.sqrt(np.sum(x1-x2)**2))"
   ]
  },
  {
   "cell_type": "code",
   "execution_count": 7,
   "metadata": {},
   "outputs": [],
   "source": [
    "#step 1\n",
    "def knn(train_X,train_y,obs):\n",
    "    d=[]\n",
    "    length_train = train_X.shape[0]\n",
    "\n",
    "    for i in range (0,length_train):\n",
    "        d.append((Eu_dist(train_X.iloc[i,],obs),train_X.index[i]))\n",
    "    d.sort(key=lambda x: x[0])\n",
    "    min_dist=train_y[d[0][1]]\n",
    "    return(min_dist)"
   ]
  },
  {
   "cell_type": "code",
   "execution_count": 8,
   "metadata": {},
   "outputs": [
    {
     "data": {
      "text/plain": [
       "'Iris-virginica'"
      ]
     },
     "execution_count": 8,
     "metadata": {},
     "output_type": "execute_result"
    }
   ],
   "source": [
    "out=knn(train_X,train_y,test_X.iloc[41,])\n",
    "out"
   ]
  },
  {
   "cell_type": "code",
   "execution_count": 14,
   "metadata": {},
   "outputs": [
    {
     "name": "stdout",
     "output_type": "stream",
     "text": [
      "[(8.5, 0), (36.1, 1), (58.5, 2), (32.0, 3), (9.2, 4), (59.2, 5), (60.800000000000004, 6), (82.30000000000001, 7), (65.60000000000001, 8), (0.9999999999999996, 9), (48.800000000000004, 10), (69.4, 11), (54.599999999999994, 12), (18.9, 13), (48.5, 14), (44.6, 15), (21.3, 16), (5.0, 17), (67.60000000000001, 18), (10.9, 19), (45.9, 20), (43.599999999999994, 21), (37.29999999999999, 22), (51.1, 23), (5.6, 24), (40.00000000000001, 25), (16.900000000000002, 26), (26.200000000000003, 27), (32.5, 28), (0.8000000000000003, 29), (53.800000000000004, 30), (65.0, 31), (13.3, 32), (43.4, 33), (60.89999999999999, 34), (23.400000000000002, 35), (58.3, 36), (82.60000000000002, 37), (43.5, 38), (12.200000000000001, 39), (9.5, 40), (17.6, 41), (0.6000000000000003, 42), (1.0000000000000004, 43), (77.10000000000001, 44), (49.89999999999999, 45), (78.60000000000001, 46), (26.8, 47), (42.699999999999996, 48), (71.50000000000001, 49), (23.700000000000003, 50), (35.400000000000006, 51), (61.300000000000004, 52), (26.700000000000003, 53), (65.8, 54), (62.1, 55), (39.1, 56), (33.9, 57), (41.7, 58), (17.3, 59), (40.9, 60), (56.199999999999996, 61), (39.4, 62), (24.200000000000003, 63), (75.9, 64), (20.599999999999998, 65), (46.3, 66), (55.89999999999999, 67), (55.39999999999999, 68), (61.00000000000001, 69), (61.1, 70), (2.8, 71), (34.49999999999999, 72), (68.89999999999999, 73), (11.8, 74), (20.9, 75), (37.6, 76), (70.9, 77), (55.39999999999999, 78), (15.4, 79), (65.5, 80), (63.099999999999994, 81), (53.1, 82), (69.40000000000002, 83), (3.8999999999999995, 84), (5.6, 85), (61.39999999999999, 86), (15.0, 87), (38.3, 88), (7.099999999999999, 89), (48.4, 90), (20.099999999999998, 91), (12.799999999999999, 92), (76.39999999999999, 93), (17.200000000000003, 94), (25.299999999999997, 95), (75.7, 96), (54.1, 97), (80.4, 98), (56.9, 99), (45.3, 100), (12.2, 101), (31.500000000000004, 102), (50.400000000000006, 103), (10.4, 104)]\n"
     ]
    }
   ],
   "source": [
    "#step 1\n",
    "length_train = train_X.shape[0]\n",
    "obs=test_X.iloc[2,]\n",
    "d=[]\n",
    "for i in range (0,length_train):\n",
    "    d.append((Eu_dist(train_X.iloc[i,],obs),i))\n",
    "print(d)"
   ]
  },
  {
   "cell_type": "code",
   "execution_count": 10,
   "metadata": {},
   "outputs": [
    {
     "data": {
      "text/plain": [
       "'Iris-virginica'"
      ]
     },
     "execution_count": 10,
     "metadata": {},
     "output_type": "execute_result"
    }
   ],
   "source": [
    "test_y.iloc[41,]"
   ]
  },
  {
   "cell_type": "code",
   "execution_count": 9,
   "metadata": {},
   "outputs": [],
   "source": [
    "def knn2(train_X,train_y,test_X,test_y):\n",
    "    predicted=[]\n",
    "    test_y['out']=np.nan\n",
    "    #test_y['out']=np.nan\n",
    "    length_train = train_X.shape[0]\n",
    "    length_test = test_X.shape[0]\n",
    "    for j in range (0,length_test):\n",
    "        d=[]\n",
    "        for i in range(0,length_train):\n",
    "            d.append((Eu_dist(train_X.iloc[i,],test_X.iloc[j,]),train_X.index[i]))\n",
    "        d.sort(key=lambda x: x[0])\n",
    "        predicted.append(train_y[d[0][1]])\n",
    "    return(predicted)"
   ]
  },
  {
   "cell_type": "code",
   "execution_count": 10,
   "metadata": {},
   "outputs": [],
   "source": [
    "output=knn2(train_X,train_y,test_X,test_y)"
   ]
  },
  {
   "cell_type": "code",
   "execution_count": 54,
   "metadata": {},
   "outputs": [
    {
     "data": {
      "text/plain": [
       "112"
      ]
     },
     "execution_count": 54,
     "metadata": {},
     "output_type": "execute_result"
    }
   ],
   "source": [
    "len(train_X)"
   ]
  },
  {
   "cell_type": "code",
   "execution_count": 55,
   "metadata": {},
   "outputs": [
    {
     "data": {
      "text/plain": [
       "112"
      ]
     },
     "execution_count": 55,
     "metadata": {},
     "output_type": "execute_result"
    }
   ],
   "source": [
    "len(train_y)"
   ]
  },
  {
   "cell_type": "code",
   "execution_count": 56,
   "metadata": {},
   "outputs": [
    {
     "data": {
      "text/plain": [
       "38"
      ]
     },
     "execution_count": 56,
     "metadata": {},
     "output_type": "execute_result"
    }
   ],
   "source": [
    "len(test_X)"
   ]
  },
  {
   "cell_type": "code",
   "execution_count": 57,
   "metadata": {},
   "outputs": [
    {
     "data": {
      "text/plain": [
       "38"
      ]
     },
     "execution_count": 57,
     "metadata": {},
     "output_type": "execute_result"
    }
   ],
   "source": [
    "len(test_y)"
   ]
  },
  {
   "cell_type": "code",
   "execution_count": 17,
   "metadata": {},
   "outputs": [
    {
     "data": {
      "text/plain": [
       "['Iris-versicolor',\n",
       " 'Iris-versicolor',\n",
       " 'Iris-versicolor',\n",
       " 'Iris-setosa',\n",
       " 'Iris-setosa',\n",
       " 'Iris-versicolor',\n",
       " 'Iris-versicolor',\n",
       " 'Iris-setosa',\n",
       " 'Iris-virginica',\n",
       " 'Iris-setosa',\n",
       " 'Iris-versicolor',\n",
       " 'Iris-versicolor',\n",
       " 'Iris-virginica',\n",
       " 'Iris-versicolor',\n",
       " 'Iris-virginica',\n",
       " 'Iris-setosa',\n",
       " 'Iris-setosa',\n",
       " 'Iris-virginica',\n",
       " 'Iris-versicolor',\n",
       " 'Iris-versicolor',\n",
       " 'Iris-setosa',\n",
       " 'Iris-virginica',\n",
       " 'Iris-setosa',\n",
       " 'Iris-setosa',\n",
       " 'Iris-setosa',\n",
       " 'Iris-setosa',\n",
       " 'Iris-setosa',\n",
       " 'Iris-virginica',\n",
       " 'Iris-versicolor',\n",
       " 'Iris-virginica',\n",
       " 'Iris-virginica',\n",
       " 'Iris-setosa',\n",
       " 'Iris-versicolor',\n",
       " 'Iris-versicolor',\n",
       " 'Iris-versicolor',\n",
       " 'Iris-setosa',\n",
       " 'Iris-virginica',\n",
       " 'Iris-virginica',\n",
       " 'Iris-virginica',\n",
       " 'Iris-versicolor',\n",
       " 'Iris-virginica',\n",
       " 'Iris-virginica',\n",
       " 'Iris-virginica',\n",
       " 'Iris-setosa',\n",
       " 'Iris-virginica']"
      ]
     },
     "execution_count": 17,
     "metadata": {},
     "output_type": "execute_result"
    }
   ],
   "source": [
    "output"
   ]
  },
  {
   "cell_type": "code",
   "execution_count": 13,
   "metadata": {},
   "outputs": [],
   "source": [
    "test_y['out']=pd.Series(output)"
   ]
  },
  {
   "cell_type": "code",
   "execution_count": 15,
   "metadata": {},
   "outputs": [],
   "source": [
    "train_X, test_X, train_y, test_y = train_test_split(data.iloc[:,:-1], data.iloc[:,-1], test_size = 0.25, stratify=data.iloc[:,-1], random_state = 13)"
   ]
  },
  {
   "cell_type": "code",
   "execution_count": 16,
   "metadata": {},
   "outputs": [
    {
     "data": {
      "text/plain": [
       "(71, 2)"
      ]
     },
     "execution_count": 16,
     "metadata": {},
     "output_type": "execute_result"
    }
   ],
   "source": [
    "df=pd.concat([test_y,pd.DataFrame(output,columns=['col1'])],axis=1,ignore_index=True)\n",
    "df.shape"
   ]
  },
  {
   "cell_type": "code",
   "execution_count": null,
   "metadata": {},
   "outputs": [],
   "source": []
  },
  {
   "cell_type": "code",
   "execution_count": null,
   "metadata": {},
   "outputs": [],
   "source": []
  },
  {
   "cell_type": "code",
   "execution_count": 34,
   "metadata": {},
   "outputs": [
    {
     "data": {
      "text/plain": [
       "55    Iris-versicolor\n",
       "78    Iris-versicolor\n",
       "80    Iris-versicolor\n",
       "2         Iris-setosa\n",
       "25        Iris-setosa\n",
       "Name: Species, dtype: object"
      ]
     },
     "execution_count": 34,
     "metadata": {},
     "output_type": "execute_result"
    }
   ],
   "source": [
    "test_y.head()"
   ]
  },
  {
   "cell_type": "code",
   "execution_count": 36,
   "metadata": {},
   "outputs": [
    {
     "data": {
      "text/plain": [
       "pandas.core.series.Series"
      ]
     },
     "execution_count": 36,
     "metadata": {},
     "output_type": "execute_result"
    }
   ],
   "source": [
    "type(test_y)"
   ]
  },
  {
   "cell_type": "code",
   "execution_count": null,
   "metadata": {},
   "outputs": [],
   "source": [
    "## 3NN\n",
    "## get first 3 index\n",
    "## we will get y laues of array\n",
    "## get mode\n",
    "## we will get values"
   ]
  },
  {
   "cell_type": "code",
   "execution_count": 19,
   "metadata": {},
   "outputs": [],
   "source": [
    "def getAccuracy(testSet, predictions):\n",
    "    correct = 0\n",
    "    for x in range(len(testSet)):\n",
    "        if testSet[x][-1] is predictions[x]:\n",
    "            correct += 1\n",
    "    return (correct/float(len(testSet))) * 100.0"
   ]
  },
  {
   "cell_type": "code",
   "execution_count": 20,
   "metadata": {},
   "outputs": [
    {
     "name": "stdout",
     "output_type": "stream",
     "text": [
      "66.66666666666666\n"
     ]
    }
   ],
   "source": [
    "#Testing getAccuracy function\n",
    "testSet = [[1,1,1,'a'], [2,2,2,'a'], [3,3,3,'b']]\n",
    "predictions = ['a', 'a', 'a']\n",
    "accuracy = getAccuracy(testSet, predictions)\n",
    "print(accuracy)"
   ]
  },
  {
   "cell_type": "code",
   "execution_count": null,
   "metadata": {},
   "outputs": [],
   "source": [
    "## bootstarpping pre learning"
   ]
  },
  {
   "cell_type": "code",
   "execution_count": null,
   "metadata": {},
   "outputs": [],
   "source": []
  },
  {
   "cell_type": "code",
   "execution_count": 33,
   "metadata": {},
   "outputs": [],
   "source": [
    "#3 knn\n",
    "def knn3(train_X,train_y,test_X,test_y):\n",
    "    predicted=[]\n",
    "    test_y['out']=np.nan\n",
    "    #test_y['out']=np.nan\n",
    "    length_train = train_X.shape[0]\n",
    "    length_test = test_X.shape[0]\n",
    "    for j in range (0,length_test):\n",
    "        d=[]\n",
    "        for i in range(0,length_train):\n",
    "            d.append((Eu_dist(train_X.iloc[i,],test_X.iloc[j,]),train_X.index[i]))\n",
    "        d.sort(key=lambda x: x[0])\n",
    "        predicted.append(train_y[d[0][1]])\n",
    "    return(predicted)"
   ]
  },
  {
   "cell_type": "code",
   "execution_count": 59,
   "metadata": {},
   "outputs": [],
   "source": [
    "output=knn3(train_X,train_y,test_X,test_y)"
   ]
  },
  {
   "cell_type": "code",
   "execution_count": 60,
   "metadata": {},
   "outputs": [],
   "source": [
    "test_y['out']=pd.Series(output)"
   ]
  },
  {
   "cell_type": "code",
   "execution_count": 61,
   "metadata": {},
   "outputs": [],
   "source": [
    "test_X['output']=pd.Series(output)"
   ]
  },
  {
   "cell_type": "code",
   "execution_count": 62,
   "metadata": {},
   "outputs": [],
   "source": [
    "train_X, test_X, train_y, test_y = train_test_split(data.iloc[:,:-1], data.iloc[:,-1], test_size = 0.25, stratify=data.iloc[:,-1], random_state = 13)"
   ]
  },
  {
   "cell_type": "code",
   "execution_count": 63,
   "metadata": {},
   "outputs": [
    {
     "data": {
      "text/plain": [
       "(66, 2)"
      ]
     },
     "execution_count": 63,
     "metadata": {},
     "output_type": "execute_result"
    }
   ],
   "source": [
    "df=pd.concat([test_y,pd.DataFrame(output,columns=['col1'])],axis=1,ignore_index=True)\n",
    "df.shape"
   ]
  },
  {
   "cell_type": "code",
   "execution_count": 85,
   "metadata": {},
   "outputs": [
    {
     "name": "stdout",
     "output_type": "stream",
     "text": [
      "Confusion Matrix \n",
      "[[13  0  0]\n",
      " [ 0 12  0]\n",
      " [ 0  0 13]]\n",
      "Accuracy Score  1.0\n",
      "Report  \n",
      "                 precision    recall  f1-score   support\n",
      "\n",
      "    Iris-setosa       1.00      1.00      1.00        13\n",
      "Iris-versicolor       1.00      1.00      1.00        12\n",
      " Iris-virginica       1.00      1.00      1.00        13\n",
      "\n",
      "    avg / total       1.00      1.00      1.00        38\n",
      "\n"
     ]
    }
   ],
   "source": [
    "# Python script for confusion matrix creation. \n",
    "from sklearn.metrics import confusion_matrix \n",
    "from sklearn.metrics import accuracy_score \n",
    "from sklearn.metrics import classification_report \n",
    "actual = test_y\n",
    "predicted =output\n",
    "results = confusion_matrix(actual, predicted) \n",
    "print ('Confusion Matrix ')\n",
    "print(results) \n",
    "print ('Accuracy Score ',accuracy_score(actual, predicted)) \n",
    "print ('Report  ')\n",
    "print (classification_report(actual, predicted) )\n"
   ]
  },
  {
   "cell_type": "code",
   "execution_count": 64,
   "metadata": {},
   "outputs": [],
   "source": [
    "# recheck\n",
    "def getAccuracy(testSet, predictions):\n",
    "    correct = 0\n",
    "    for x in range(len(testSet)):\n",
    "        if testSet[x][-1] is predictions[x]:\n",
    "            correct += 1\n",
    "    return (correct/float(len(testSet))) * 100.0"
   ]
  },
  {
   "cell_type": "code",
   "execution_count": 65,
   "metadata": {},
   "outputs": [
    {
     "name": "stdout",
     "output_type": "stream",
     "text": [
      "66.66666666666666\n"
     ]
    }
   ],
   "source": [
    "#Testing getAccuracy function\n",
    "testSet = [[1,1,1,'a'], [2,2,2,'a'], [3,3,3,'b']]\n",
    "predictions = ['a', 'a', 'a']\n",
    "accuracy = getAccuracy(testSet, predictions)\n",
    "print(accuracy)"
   ]
  },
  {
   "cell_type": "code",
   "execution_count": null,
   "metadata": {},
   "outputs": [],
   "source": [
    "# now i have no. of n term\n",
    "def knn_n(train_X,train_y,test_X,test_y):\n",
    "    predicted=[]\n",
    "    test_y['out']=np.nan\n",
    "    #test_y['out']=np.nan\n",
    "    length_train = train_X.shape[0]\n",
    "    length_test = test_X.shape[0]\n",
    "    for j in range (0,length_test):\n",
    "        d=[]\n",
    "        for i in range(0,length_train):\n",
    "            d.append((Eu_dist(train_X.iloc[i,],test_X.iloc[j,]),train_X.index[i]))\n",
    "        d.sort(key=lambda x: x[0])\n",
    "        predicted.append(train_y[d[0][1]])\n",
    "    return(predicted)"
   ]
  },
  {
   "cell_type": "code",
   "execution_count": 92,
   "metadata": {},
   "outputs": [
    {
     "ename": "SyntaxError",
     "evalue": "invalid syntax (<ipython-input-92-deba1672bb93>, line 20)",
     "output_type": "error",
     "traceback": [
      "\u001b[1;36m  File \u001b[1;32m\"<ipython-input-92-deba1672bb93>\"\u001b[1;36m, line \u001b[1;32m20\u001b[0m\n\u001b[1;33m    d1.sort(key=lambda x: x[0])\u001b[0m\n\u001b[1;37m     ^\u001b[0m\n\u001b[1;31mSyntaxError\u001b[0m\u001b[1;31m:\u001b[0m invalid syntax\n"
     ]
    }
   ],
   "source": [
    "# now i have no. of n term\n",
    "from scipy import stats\n",
    "def knn_n(train_X,train_y,test_X,test_y):\n",
    "    predicted=[]\n",
    "    test_y['out']=np.nan\n",
    "    #test_y['out']=np.nan\n",
    "    length_train = train_X.shape[0]\n",
    "    length_test = test_X.shape[0]\n",
    "    for j in range (0,length_test):\n",
    "        d=[]\n",
    "        for i in range(0,length_train):\n",
    "            d.append((Eu_dist(train_X.iloc[i,],test_X.iloc[j,]),train_X.index[i]))\n",
    "        d.sort(key=lambda x: x[0])\n",
    "        #mode\n",
    "        predicted.append(mode(top_n),[0])\n",
    "        for s in range(0,nterm):\n",
    "            d1=[]\n",
    "            #for index and eculiean \n",
    "            d1.append((Eu_dist(train_X.iloc[s,],obs),test_X.iloc[s,],test_y.iloc[s,],train_X.index[s])\n",
    "            d1.sort(key=lambda x: x[0])\n",
    "            predicted.append(train_y[d1[0][1]]\n",
    "    return(predicted)\n",
    "                         #slice top_n = d[0:nterm]"
   ]
  },
  {
   "cell_type": "code",
   "execution_count": 75,
   "metadata": {},
   "outputs": [],
   "source": [
    "def knn_n(nterm,train_X,train_y,test_X,test_y):\n",
    "    predicted=[]\n",
    "    length_train = train_X.shape[0]\n",
    "    length_test = test_X.shape[0]\n",
    "    for s in range(0,nterm):\n",
    "        d=[]\n",
    "        # here index and diastance matrix\n",
    "        d.append((Eu_dist(train_X.iloc[s,],obs),test_X.iloc[s,],test_y.iloc[s,],train_X.index[s]))\n",
    "        d.sort(key=lambda x: x[0])\n",
    "        predicted.append(train_y[d[0][1]])\n",
    "            "
   ]
  },
  {
   "cell_type": "code",
   "execution_count": 109,
   "metadata": {},
   "outputs": [
    {
     "name": "stdout",
     "output_type": "stream",
     "text": [
      "Euclidean distance from x to y:  2.0\n"
     ]
    }
   ],
   "source": [
    "x = (5, 6, 7)\n",
    "y = (8, 9, 9)\n",
    "for a, b in zip(x, y):\n",
    "#     print(a,b)\n",
    "     eculieandistance = math.sqrt(sum([(a - b) ** 2]))\n",
    "print(\"Euclidean distance from x to y: \",distance)"
   ]
  },
  {
   "cell_type": "code",
   "execution_count": 106,
   "metadata": {},
   "outputs": [],
   "source": [
    "import os\n",
    "os.chdir(\"C:\\\\Users\\\\MANDY\\\\Desktop\\\\dataset\")\n",
    "data=pd.read_csv('iris.csv')\n"
   ]
  },
  {
   "cell_type": "code",
   "execution_count": 138,
   "metadata": {},
   "outputs": [],
   "source": [
    "from sklearn.model_selection import train_test_split\n",
    "train_X, test_X, train_y, test_y = train_test_split(data.iloc[:,:-1], data.iloc[:,-1], test_size = 0.25, stratify=data.iloc[:,-1], random_state = 13)"
   ]
  },
  {
   "cell_type": "code",
   "execution_count": 139,
   "metadata": {},
   "outputs": [
    {
     "data": {
      "text/plain": [
       "112"
      ]
     },
     "execution_count": 139,
     "metadata": {},
     "output_type": "execute_result"
    }
   ],
   "source": [
    "len(train_y)"
   ]
  },
  {
   "cell_type": "code",
   "execution_count": 140,
   "metadata": {},
   "outputs": [
    {
     "data": {
      "text/plain": [
       "112"
      ]
     },
     "execution_count": 140,
     "metadata": {},
     "output_type": "execute_result"
    }
   ],
   "source": [
    "len(train_X)"
   ]
  },
  {
   "cell_type": "code",
   "execution_count": 141,
   "metadata": {},
   "outputs": [
    {
     "name": "stdout",
     "output_type": "stream",
     "text": [
      "Id Id\n",
      "SepalLengthCm SepalLengthCm\n",
      "SepalWidthCm SepalWidthCm\n",
      "PetalLengthCm PetalLengthCm\n",
      "PetalWidthCm PetalWidthCm\n"
     ]
    }
   ],
   "source": [
    "X = train_X # Independent variables\n",
    "y = test_X\n",
    "for a,b in zip(X,y):\n",
    "    print(a,b)\n",
    "#     eculieandistance = math.sqrt(sum((a - b) ** 2))\n",
    "# print(\"Euclidean distance from x to y: \",distance)"
   ]
  },
  {
   "cell_type": "code",
   "execution_count": 126,
   "metadata": {},
   "outputs": [
    {
     "data": {
      "text/html": [
       "<div>\n",
       "<style scoped>\n",
       "    .dataframe tbody tr th:only-of-type {\n",
       "        vertical-align: middle;\n",
       "    }\n",
       "\n",
       "    .dataframe tbody tr th {\n",
       "        vertical-align: top;\n",
       "    }\n",
       "\n",
       "    .dataframe thead th {\n",
       "        text-align: right;\n",
       "    }\n",
       "</style>\n",
       "<table border=\"1\" class=\"dataframe\">\n",
       "  <thead>\n",
       "    <tr style=\"text-align: right;\">\n",
       "      <th></th>\n",
       "      <th>Id</th>\n",
       "      <th>SepalLengthCm</th>\n",
       "      <th>SepalWidthCm</th>\n",
       "      <th>PetalLengthCm</th>\n",
       "      <th>PetalWidthCm</th>\n",
       "    </tr>\n",
       "  </thead>\n",
       "  <tbody>\n",
       "    <tr>\n",
       "      <th>55</th>\n",
       "      <td>56</td>\n",
       "      <td>5.7</td>\n",
       "      <td>2.8</td>\n",
       "      <td>4.5</td>\n",
       "      <td>1.3</td>\n",
       "    </tr>\n",
       "    <tr>\n",
       "      <th>78</th>\n",
       "      <td>79</td>\n",
       "      <td>6.0</td>\n",
       "      <td>2.9</td>\n",
       "      <td>4.5</td>\n",
       "      <td>1.5</td>\n",
       "    </tr>\n",
       "  </tbody>\n",
       "</table>\n",
       "</div>"
      ],
      "text/plain": [
       "    Id  SepalLengthCm  SepalWidthCm  PetalLengthCm  PetalWidthCm\n",
       "55  56            5.7           2.8            4.5           1.3\n",
       "78  79            6.0           2.9            4.5           1.5"
      ]
     },
     "execution_count": 126,
     "metadata": {},
     "output_type": "execute_result"
    }
   ],
   "source": [
    "test_X.head(2)"
   ]
  },
  {
   "cell_type": "markdown",
   "metadata": {},
   "source": [
    "## def knn_n(nterm,train_X,train_y,test_X,test_y):\n",
    "    Eu_dist = [d,i]\n",
    "    Eu_dist = train_X-"
   ]
  },
  {
   "cell_type": "code",
   "execution_count": 156,
   "metadata": {},
   "outputs": [
    {
     "name": "stdout",
     "output_type": "stream",
     "text": [
      "<function Eu_dist at 0x000002143FDA4A60>\n"
     ]
    }
   ],
   "source": [
    "import os\n",
    "os.chdir(\"C:\\\\Users\\\\MANDY\\\\Desktop\\\\dataset\")\n",
    "\n",
    "data=pd.read_csv('iris.csv')\n",
    "from sklearn.model_selection import train_test_split\n",
    "train_X, test_X, train_y, test_y = train_test_split(data.iloc[:,:-1], data.iloc[:,-1], test_size = 0.3, stratify=data.iloc[:,-1], random_state = 13)\n",
    "#eculiean distance\n",
    "x1=train_X\n",
    "x2=train_y\n",
    "def Eu_dist(x1,x2):\n",
    "    return (np.sqrt(np.sum(x1-x2)**2))\n",
    "# print(Eu_dist)"
   ]
  },
  {
   "cell_type": "code",
   "execution_count": null,
   "metadata": {},
   "outputs": [],
   "source": []
  }
 ],
 "metadata": {
  "kernelspec": {
   "display_name": "Python 3",
   "language": "python",
   "name": "python3"
  },
  "language_info": {
   "codemirror_mode": {
    "name": "ipython",
    "version": 3
   },
   "file_extension": ".py",
   "mimetype": "text/x-python",
   "name": "python",
   "nbconvert_exporter": "python",
   "pygments_lexer": "ipython3",
   "version": "3.7.4"
  },
  "toc": {
   "base_numbering": 1,
   "nav_menu": {},
   "number_sections": true,
   "sideBar": true,
   "skip_h1_title": false,
   "title_cell": "Table of Contents",
   "title_sidebar": "Contents",
   "toc_cell": false,
   "toc_position": {},
   "toc_section_display": true,
   "toc_window_display": false
  },
  "varInspector": {
   "cols": {
    "lenName": 16,
    "lenType": 16,
    "lenVar": 40
   },
   "kernels_config": {
    "python": {
     "delete_cmd_postfix": "",
     "delete_cmd_prefix": "del ",
     "library": "var_list.py",
     "varRefreshCmd": "print(var_dic_list())"
    },
    "r": {
     "delete_cmd_postfix": ") ",
     "delete_cmd_prefix": "rm(",
     "library": "var_list.r",
     "varRefreshCmd": "cat(var_dic_list()) "
    }
   },
   "types_to_exclude": [
    "module",
    "function",
    "builtin_function_or_method",
    "instance",
    "_Feature"
   ],
   "window_display": false
  }
 },
 "nbformat": 4,
 "nbformat_minor": 2
}
