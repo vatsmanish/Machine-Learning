{
 "cells": [
  {
   "cell_type": "markdown",
   "metadata": {
    "collapsed": true
   },
   "source": [
    "## Linear Regression Model"
   ]
  },
  {
   "cell_type": "markdown",
   "metadata": {},
   "source": [
    "### 0. Required Libraries"
   ]
  },
  {
   "cell_type": "code",
   "execution_count": 1,
   "metadata": {},
   "outputs": [],
   "source": [
    "import numpy as np\n",
    "import pandas as pd\n",
    "import matplotlib.pyplot as plt\n",
    "import math\n",
    "import os"
   ]
  },
  {
   "cell_type": "code",
   "execution_count": 2,
   "metadata": {},
   "outputs": [
    {
     "name": "stderr",
     "output_type": "stream",
     "text": [
      "C:\\Users\\MANDY\\AppData\\Local\\Continuum\\anaconda3\\lib\\site-packages\\statsmodels\\compat\\pandas.py:56: FutureWarning: The pandas.core.datetools module is deprecated and will be removed in a future version. Please use the pandas.tseries module instead.\n",
      "  from pandas.core import datetools\n"
     ]
    }
   ],
   "source": [
    "#For linear Regression using the statsmodels package\n",
    "import statsmodels.api as stm"
   ]
  },
  {
   "cell_type": "code",
   "execution_count": 3,
   "metadata": {},
   "outputs": [],
   "source": [
    "#For linear Regression using the sklearn package\n",
    "import scipy.stats as stats\n",
    "import sklearn"
   ]
  },
  {
   "cell_type": "markdown",
   "metadata": {},
   "source": [
    "### 1. Reading the Data"
   ]
  },
  {
   "cell_type": "code",
   "execution_count": 4,
   "metadata": {},
   "outputs": [],
   "source": [
    "#Setting the working directory\n",
    "#os.chdir(\"C:/Users/Gourab/Desktop/R\")"
   ]
  },
  {
   "cell_type": "code",
   "execution_count": 5,
   "metadata": {},
   "outputs": [],
   "source": [
    "# cars = pd.read_csv('C:/Users/Gourab/Desktop/R/cars.csv')\n",
    "cars= pd.read_csv(\"C:\\\\Users\\\\MANDY\\\\Desktop\\\\dataset\\\\cars.csv\")\n",
    "\n",
    "#Reading the data\n",
    "# cars = pd.read_csv(\"cars.csv\")"
   ]
  },
  {
   "cell_type": "code",
   "execution_count": 6,
   "metadata": {},
   "outputs": [
    {
     "data": {
      "text/plain": [
       "Car              object\n",
       "MPG             float64\n",
       "Cylinders         int64\n",
       "Displacement    float64\n",
       "Horsepower        int64\n",
       "Weight            int64\n",
       "Acceleration    float64\n",
       "Model             int64\n",
       "Origin           object\n",
       "dtype: object"
      ]
     },
     "execution_count": 6,
     "metadata": {},
     "output_type": "execute_result"
    }
   ],
   "source": [
    "cars.dtypes"
   ]
  },
  {
   "cell_type": "code",
   "execution_count": 7,
   "metadata": {},
   "outputs": [
    {
     "data": {
      "text/html": [
       "<div>\n",
       "<style scoped>\n",
       "    .dataframe tbody tr th:only-of-type {\n",
       "        vertical-align: middle;\n",
       "    }\n",
       "\n",
       "    .dataframe tbody tr th {\n",
       "        vertical-align: top;\n",
       "    }\n",
       "\n",
       "    .dataframe thead th {\n",
       "        text-align: right;\n",
       "    }\n",
       "</style>\n",
       "<table border=\"1\" class=\"dataframe\">\n",
       "  <thead>\n",
       "    <tr style=\"text-align: right;\">\n",
       "      <th></th>\n",
       "      <th>Car</th>\n",
       "      <th>MPG</th>\n",
       "      <th>Cylinders</th>\n",
       "      <th>Displacement</th>\n",
       "      <th>Horsepower</th>\n",
       "      <th>Weight</th>\n",
       "      <th>Acceleration</th>\n",
       "      <th>Model</th>\n",
       "      <th>Origin</th>\n",
       "    </tr>\n",
       "  </thead>\n",
       "  <tbody>\n",
       "    <tr>\n",
       "      <th>251</th>\n",
       "      <td>Volkswagen Rabbit Custom Diesel</td>\n",
       "      <td>43.1</td>\n",
       "      <td>4</td>\n",
       "      <td>90.0</td>\n",
       "      <td>48</td>\n",
       "      <td>1985</td>\n",
       "      <td>21.5</td>\n",
       "      <td>78</td>\n",
       "      <td>Europe</td>\n",
       "    </tr>\n",
       "    <tr>\n",
       "      <th>372</th>\n",
       "      <td>Oldsmobile Cutlass LS</td>\n",
       "      <td>26.6</td>\n",
       "      <td>8</td>\n",
       "      <td>350.0</td>\n",
       "      <td>105</td>\n",
       "      <td>3725</td>\n",
       "      <td>19.0</td>\n",
       "      <td>81</td>\n",
       "      <td>US</td>\n",
       "    </tr>\n",
       "    <tr>\n",
       "      <th>231</th>\n",
       "      <td>Mercury Cougar Brougham</td>\n",
       "      <td>15.0</td>\n",
       "      <td>8</td>\n",
       "      <td>302.0</td>\n",
       "      <td>130</td>\n",
       "      <td>4295</td>\n",
       "      <td>14.9</td>\n",
       "      <td>77</td>\n",
       "      <td>US</td>\n",
       "    </tr>\n",
       "    <tr>\n",
       "      <th>344</th>\n",
       "      <td>Honda Accord</td>\n",
       "      <td>32.4</td>\n",
       "      <td>4</td>\n",
       "      <td>107.0</td>\n",
       "      <td>72</td>\n",
       "      <td>2290</td>\n",
       "      <td>17.0</td>\n",
       "      <td>80</td>\n",
       "      <td>Japan</td>\n",
       "    </tr>\n",
       "    <tr>\n",
       "      <th>98</th>\n",
       "      <td>Chevrolet Caprice Classic</td>\n",
       "      <td>13.0</td>\n",
       "      <td>8</td>\n",
       "      <td>400.0</td>\n",
       "      <td>150</td>\n",
       "      <td>4464</td>\n",
       "      <td>12.0</td>\n",
       "      <td>73</td>\n",
       "      <td>US</td>\n",
       "    </tr>\n",
       "    <tr>\n",
       "      <th>91</th>\n",
       "      <td>Toyota Corolla 1600 (sw)</td>\n",
       "      <td>27.0</td>\n",
       "      <td>4</td>\n",
       "      <td>97.0</td>\n",
       "      <td>88</td>\n",
       "      <td>2100</td>\n",
       "      <td>16.5</td>\n",
       "      <td>72</td>\n",
       "      <td>Japan</td>\n",
       "    </tr>\n",
       "    <tr>\n",
       "      <th>112</th>\n",
       "      <td>Plymouth Custom Suburb</td>\n",
       "      <td>13.0</td>\n",
       "      <td>8</td>\n",
       "      <td>360.0</td>\n",
       "      <td>170</td>\n",
       "      <td>4654</td>\n",
       "      <td>13.0</td>\n",
       "      <td>73</td>\n",
       "      <td>US</td>\n",
       "    </tr>\n",
       "    <tr>\n",
       "      <th>111</th>\n",
       "      <td>Ford Country</td>\n",
       "      <td>12.0</td>\n",
       "      <td>8</td>\n",
       "      <td>400.0</td>\n",
       "      <td>167</td>\n",
       "      <td>4906</td>\n",
       "      <td>12.5</td>\n",
       "      <td>73</td>\n",
       "      <td>US</td>\n",
       "    </tr>\n",
       "    <tr>\n",
       "      <th>296</th>\n",
       "      <td>Buick Estate Wagon (sw)</td>\n",
       "      <td>16.9</td>\n",
       "      <td>8</td>\n",
       "      <td>350.0</td>\n",
       "      <td>155</td>\n",
       "      <td>4360</td>\n",
       "      <td>14.9</td>\n",
       "      <td>79</td>\n",
       "      <td>US</td>\n",
       "    </tr>\n",
       "    <tr>\n",
       "      <th>113</th>\n",
       "      <td>Oldsmobile Vista Cruiser</td>\n",
       "      <td>12.0</td>\n",
       "      <td>8</td>\n",
       "      <td>350.0</td>\n",
       "      <td>180</td>\n",
       "      <td>4499</td>\n",
       "      <td>12.5</td>\n",
       "      <td>73</td>\n",
       "      <td>US</td>\n",
       "    </tr>\n",
       "  </tbody>\n",
       "</table>\n",
       "</div>"
      ],
      "text/plain": [
       "                                 Car   MPG  Cylinders  Displacement  \\\n",
       "251  Volkswagen Rabbit Custom Diesel  43.1          4          90.0   \n",
       "372            Oldsmobile Cutlass LS  26.6          8         350.0   \n",
       "231          Mercury Cougar Brougham  15.0          8         302.0   \n",
       "344                     Honda Accord  32.4          4         107.0   \n",
       "98         Chevrolet Caprice Classic  13.0          8         400.0   \n",
       "91          Toyota Corolla 1600 (sw)  27.0          4          97.0   \n",
       "112           Plymouth Custom Suburb  13.0          8         360.0   \n",
       "111                     Ford Country  12.0          8         400.0   \n",
       "296          Buick Estate Wagon (sw)  16.9          8         350.0   \n",
       "113         Oldsmobile Vista Cruiser  12.0          8         350.0   \n",
       "\n",
       "     Horsepower  Weight  Acceleration  Model  Origin  \n",
       "251          48    1985          21.5     78  Europe  \n",
       "372         105    3725          19.0     81      US  \n",
       "231         130    4295          14.9     77      US  \n",
       "344          72    2290          17.0     80   Japan  \n",
       "98          150    4464          12.0     73      US  \n",
       "91           88    2100          16.5     72   Japan  \n",
       "112         170    4654          13.0     73      US  \n",
       "111         167    4906          12.5     73      US  \n",
       "296         155    4360          14.9     79      US  \n",
       "113         180    4499          12.5     73      US  "
      ]
     },
     "execution_count": 7,
     "metadata": {},
     "output_type": "execute_result"
    }
   ],
   "source": [
    "#Printing a part of the data\n",
    "cars.sample(10)"
   ]
  },
  {
   "cell_type": "markdown",
   "metadata": {},
   "source": [
    "### 2. Objective\n",
    "\n",
    "To predict the MPG (Miles per gallon) of cars based on the Weight (in pounds) of the cars\n",
    "\n",
    "**Target (Response) Variable** - MPG\n",
    "\n",
    "**Explanatory Variable (Predictors)** - Weight"
   ]
  },
  {
   "cell_type": "markdown",
   "metadata": {},
   "source": [
    "### 3. Understanding the variable"
   ]
  },
  {
   "cell_type": "markdown",
   "metadata": {},
   "source": [
    "#### Variable: MPG"
   ]
  },
  {
   "cell_type": "code",
   "execution_count": 8,
   "metadata": {},
   "outputs": [
    {
     "data": {
      "image/png": "[encoded data removed]",
      "text/plain": [
       "<matplotlib.figure.Figure at 0x28c956094a8>"
      ]
     },
     "metadata": {},
     "output_type": "display_data"
    }
   ],
   "source": [
    "#Histogram of the variable MPG\n",
    "cars.MPG.hist(grid=False, color=\"orange\", edgecolor=\"black\", bins=10)\n",
    "plt.xlabel(\"Miles Per Gallon\")\n",
    "plt.ylabel(\"No. of cars\")\n",
    "plt.title(\"Histogram of Cars\")\n",
    "plt.show()"
   ]
  },
  {
   "cell_type": "code",
   "execution_count": 9,
   "metadata": {},
   "outputs": [
    {
     "data": {
      "image/png": "[encoded data removed]",
      "text/plain": [
       "<matplotlib.figure.Figure at 0x28c956c8588>"
      ]
     },
     "metadata": {},
     "output_type": "display_data"
    }
   ],
   "source": [
    "#Boxplot of the variable MPG\n",
    "cars.boxplot(column=\"MPG\", notch=True, vert=False)\n",
    "plt.xlabel(\"MPG of cars\")\n",
    "plt.show()"
   ]
  },
  {
   "cell_type": "code",
   "execution_count": 10,
   "metadata": {},
   "outputs": [
    {
     "data": {
      "text/html": [
       "<div>\n",
       "<style scoped>\n",
       "    .dataframe tbody tr th:only-of-type {\n",
       "        vertical-align: middle;\n",
       "    }\n",
       "\n",
       "    .dataframe tbody tr th {\n",
       "        vertical-align: top;\n",
       "    }\n",
       "\n",
       "    .dataframe thead th {\n",
       "        text-align: right;\n",
       "    }\n",
       "</style>\n",
       "<table border=\"1\" class=\"dataframe\">\n",
       "  <thead>\n",
       "    <tr style=\"text-align: right;\">\n",
       "      <th></th>\n",
       "      <th>count</th>\n",
       "      <th>mean</th>\n",
       "      <th>std</th>\n",
       "      <th>min</th>\n",
       "      <th>25%</th>\n",
       "      <th>50%</th>\n",
       "      <th>75%</th>\n",
       "      <th>max</th>\n",
       "    </tr>\n",
       "  </thead>\n",
       "  <tbody>\n",
       "    <tr>\n",
       "      <th>MPG</th>\n",
       "      <td>406.0</td>\n",
       "      <td>23.051232</td>\n",
       "      <td>8.401777</td>\n",
       "      <td>0.0</td>\n",
       "      <td>17.0</td>\n",
       "      <td>22.35</td>\n",
       "      <td>29.0</td>\n",
       "      <td>46.6</td>\n",
       "    </tr>\n",
       "  </tbody>\n",
       "</table>\n",
       "</div>"
      ],
      "text/plain": [
       "     count       mean       std  min   25%    50%   75%   max\n",
       "MPG  406.0  23.051232  8.401777  0.0  17.0  22.35  29.0  46.6"
      ]
     },
     "execution_count": 10,
     "metadata": {},
     "output_type": "execute_result"
    }
   ],
   "source": [
    "cars[['MPG']].describe().transpose()"
   ]
  },
  {
   "cell_type": "markdown",
   "metadata": {},
   "source": [
    "**Observations and Notes**\n",
    "\n",
    "\n",
    "\n",
    "1. Anomalies?\n",
    "2. Shape?\n",
    "3. Outliers?\n",
    "4. etc.?"
   ]
  },
  {
   "cell_type": "markdown",
   "metadata": {},
   "source": [
    "#### Variable: Weight"
   ]
  },
  {
   "cell_type": "code",
   "execution_count": 11,
   "metadata": {},
   "outputs": [
    {
     "data": {
      "image/png": "[encoded data removed]",
      "text/plain": [
       "<matplotlib.figure.Figure at 0x28c959bb2b0>"
      ]
     },
     "metadata": {},
     "output_type": "display_data"
    }
   ],
   "source": [
    "#Histogram of the variable Weight\n",
    "cars.hist(column=\"Weight\", grid=False, color = \"maroon\", edgecolor=\"black\")\n",
    "plt.xlabel(\"Weight (in pounds) of Cars\")\n",
    "plt.ylabel(\"No. of Cars\")\n",
    "plt.title(\"Histogram of Weights of Cars\")\n",
    "plt.show()"
   ]
  },
  {
   "cell_type": "code",
   "execution_count": 12,
   "metadata": {},
   "outputs": [
    {
     "data": {
      "image/png": "[encoded data removed]",
      "text/plain": [
       "<matplotlib.figure.Figure at 0x28c95a49cf8>"
      ]
     },
     "metadata": {},
     "output_type": "display_data"
    }
   ],
   "source": [
    "#Boxplot of Weights of Cars\n",
    "cars.boxplot(column='Weight', vert=False)\n",
    "plt.xlabel('Weights (in pounds) of Cars')\n",
    "plt.title('Boxplot of Weights of Cars')\n",
    "plt.show()"
   ]
  },
  {
   "cell_type": "code",
   "execution_count": 13,
   "metadata": {},
   "outputs": [
    {
     "data": {
      "text/html": [
       "<div>\n",
       "<style scoped>\n",
       "    .dataframe tbody tr th:only-of-type {\n",
       "        vertical-align: middle;\n",
       "    }\n",
       "\n",
       "    .dataframe tbody tr th {\n",
       "        vertical-align: top;\n",
       "    }\n",
       "\n",
       "    .dataframe thead th {\n",
       "        text-align: right;\n",
       "    }\n",
       "</style>\n",
       "<table border=\"1\" class=\"dataframe\">\n",
       "  <thead>\n",
       "    <tr style=\"text-align: right;\">\n",
       "      <th></th>\n",
       "      <th>count</th>\n",
       "      <th>mean</th>\n",
       "      <th>std</th>\n",
       "      <th>min</th>\n",
       "      <th>25%</th>\n",
       "      <th>50%</th>\n",
       "      <th>75%</th>\n",
       "      <th>max</th>\n",
       "    </tr>\n",
       "  </thead>\n",
       "  <tbody>\n",
       "    <tr>\n",
       "      <th>Weight</th>\n",
       "      <td>406.0</td>\n",
       "      <td>2979.413793</td>\n",
       "      <td>847.004328</td>\n",
       "      <td>1613.0</td>\n",
       "      <td>2226.5</td>\n",
       "      <td>2822.5</td>\n",
       "      <td>3618.25</td>\n",
       "      <td>5140.0</td>\n",
       "    </tr>\n",
       "  </tbody>\n",
       "</table>\n",
       "</div>"
      ],
      "text/plain": [
       "        count         mean         std     min     25%     50%      75%  \\\n",
       "Weight  406.0  2979.413793  847.004328  1613.0  2226.5  2822.5  3618.25   \n",
       "\n",
       "           max  \n",
       "Weight  5140.0  "
      ]
     },
     "execution_count": 13,
     "metadata": {},
     "output_type": "execute_result"
    }
   ],
   "source": [
    "cars[['Weight']].describe().transpose()"
   ]
  },
  {
   "cell_type": "markdown",
   "metadata": {},
   "source": [
    "**Observations and Notes**\n",
    "\n",
    "\n",
    "1. Anomalies?\n",
    "2. Shape?\n",
    "3. Outliers?\n",
    "4. etc.?"
   ]
  },
  {
   "cell_type": "markdown",
   "metadata": {},
   "source": [
    "### 4. Studying the Association between the Target and the Explanatory Variable"
   ]
  },
  {
   "cell_type": "code",
   "execution_count": 14,
   "metadata": {},
   "outputs": [
    {
     "data": {
      "image/png": "[encoded data removed]",
      "text/plain": [
       "<matplotlib.figure.Figure at 0x28c95abe7b8>"
      ]
     },
     "metadata": {},
     "output_type": "display_data"
    }
   ],
   "source": [
    "#Plotting the scatter plot to study the association between MPG and Weight\n",
    "cars.plot(kind='scatter', x='Weight', y='MPG', color='black', figsize=(8,6))\n",
    "plt.ylabel('Miles per Gallon', fontsize=12)\n",
    "plt.xlabel('Weight (in lbs) of Cars', fontsize=12)\n",
    "plt.title('Scatter plot of MPG vs Weight',fontsize=14)\n",
    "plt.show()\n"
   ]
  },
  {
   "cell_type": "markdown",
   "metadata": {},
   "source": [
    "### 5. Removing the anomalies"
   ]
  },
  {
   "cell_type": "code",
   "execution_count": 15,
   "metadata": {},
   "outputs": [],
   "source": [
    "#Let us remove the observations for which MPG is 0\n",
    "cars2 = cars.loc[cars.MPG != 0, ]"
   ]
  },
  {
   "cell_type": "code",
   "execution_count": 16,
   "metadata": {},
   "outputs": [
    {
     "data": {
      "text/html": [
       "<div>\n",
       "<style scoped>\n",
       "    .dataframe tbody tr th:only-of-type {\n",
       "        vertical-align: middle;\n",
       "    }\n",
       "\n",
       "    .dataframe tbody tr th {\n",
       "        vertical-align: top;\n",
       "    }\n",
       "\n",
       "    .dataframe thead th {\n",
       "        text-align: right;\n",
       "    }\n",
       "</style>\n",
       "<table border=\"1\" class=\"dataframe\">\n",
       "  <thead>\n",
       "    <tr style=\"text-align: right;\">\n",
       "      <th></th>\n",
       "      <th>count</th>\n",
       "      <th>mean</th>\n",
       "      <th>std</th>\n",
       "      <th>min</th>\n",
       "      <th>25%</th>\n",
       "      <th>50%</th>\n",
       "      <th>75%</th>\n",
       "      <th>max</th>\n",
       "    </tr>\n",
       "  </thead>\n",
       "  <tbody>\n",
       "    <tr>\n",
       "      <th>MPG</th>\n",
       "      <td>398.0</td>\n",
       "      <td>23.514573</td>\n",
       "      <td>7.815984</td>\n",
       "      <td>9.0</td>\n",
       "      <td>17.50</td>\n",
       "      <td>23.0</td>\n",
       "      <td>29.0</td>\n",
       "      <td>46.6</td>\n",
       "    </tr>\n",
       "    <tr>\n",
       "      <th>Weight</th>\n",
       "      <td>398.0</td>\n",
       "      <td>2970.424623</td>\n",
       "      <td>846.841774</td>\n",
       "      <td>1613.0</td>\n",
       "      <td>2223.75</td>\n",
       "      <td>2803.5</td>\n",
       "      <td>3608.0</td>\n",
       "      <td>5140.0</td>\n",
       "    </tr>\n",
       "  </tbody>\n",
       "</table>\n",
       "</div>"
      ],
      "text/plain": [
       "        count         mean         std     min      25%     50%     75%  \\\n",
       "MPG     398.0    23.514573    7.815984     9.0    17.50    23.0    29.0   \n",
       "Weight  398.0  2970.424623  846.841774  1613.0  2223.75  2803.5  3608.0   \n",
       "\n",
       "           max  \n",
       "MPG       46.6  \n",
       "Weight  5140.0  "
      ]
     },
     "execution_count": 16,
     "metadata": {},
     "output_type": "execute_result"
    }
   ],
   "source": [
    "cars2[['MPG','Weight']].describe().transpose()"
   ]
  },
  {
   "cell_type": "markdown",
   "metadata": {},
   "source": [
    "### 6. Train-Test Split for Model Fitting and Validation"
   ]
  },
  {
   "cell_type": "code",
   "execution_count": 17,
   "metadata": {},
   "outputs": [
    {
     "data": {
      "text/plain": [
       "array([  1,   2,   3,   4,   5,   6,   7,   8,  15,  16,  18,  19,  20,\n",
       "        21,  22,  23,  24,  25,  26,  27,  28,  30,  32,  33,  35,  36,\n",
       "        40,  41,  42,  44,  47,  51,  52,  53,  56,  58,  59,  61,  62,\n",
       "        63,  66,  67,  68,  70,  71,  72,  73,  74,  75,  78,  80,  81,\n",
       "        82,  83,  84,  85,  86,  87,  88,  90,  92,  93,  96,  97,  99,\n",
       "       100, 103, 104, 107, 108, 109, 110, 111, 113, 114, 115, 116, 117,\n",
       "       118, 119, 120, 121, 123, 125, 127, 129, 131, 132, 133, 136, 139,\n",
       "       140, 141, 142, 143, 144, 145, 146, 147, 148, 149, 151, 152, 153,\n",
       "       156, 157, 159, 160, 161, 162, 163, 164, 165, 166, 167, 168, 169,\n",
       "       171, 173, 174, 175, 177, 178, 180, 182, 183, 186, 188, 189, 191,\n",
       "       193, 195, 196, 197, 198, 201, 203, 205, 206, 207, 211, 212, 213,\n",
       "       215, 217, 219, 220, 221, 222, 223, 224, 225, 226, 227, 228, 230,\n",
       "       231, 232, 233, 235, 236, 237, 238, 239, 240, 241, 242, 243, 244,\n",
       "       245, 246, 247, 248, 252, 253, 254, 255, 256, 257, 259, 260, 261,\n",
       "       262, 265, 266, 267, 268, 270, 271, 275, 276, 278, 279, 281, 282,\n",
       "       283, 285, 287, 288, 289, 290, 291, 293, 294, 296, 300, 301, 302,\n",
       "       303, 304, 305, 306, 307, 309, 310, 311, 313, 314, 315, 316, 317,\n",
       "       318, 319, 320, 324, 325, 326, 327, 329, 331, 332, 333, 334, 335,\n",
       "       337, 338, 339, 341, 343, 346, 347, 348, 349, 351, 353, 354, 355,\n",
       "       357, 359, 361, 363, 364, 365, 369, 370, 371, 373, 377, 379, 380,\n",
       "       381, 382, 384, 385, 386, 387, 389, 391, 394, 395, 396, 397, 398,\n",
       "       399, 400, 401, 402, 403, 405], dtype=int64)"
      ]
     },
     "execution_count": 17,
     "metadata": {},
     "output_type": "execute_result"
    }
   ],
   "source": [
    "#Randomly divide the data into train (70%) and test (30%)\n",
    "\n",
    "#Step 1 - Select 0.7*398 random numbers between 1 and 406 (with some of the numbers removed in between)\n",
    "np.random.seed(0)\n",
    "train = np.random.choice(cars2.index, round(0.7*398), replace=False)\n",
    "train.sort()\n",
    "train"
   ]
  },
  {
   "cell_type": "code",
   "execution_count": 18,
   "metadata": {},
   "outputs": [],
   "source": [
    "#Step 2 - Select the observations from the data corresponding to the train indices\n",
    "X_train = cars2.loc[train, ['Weight']]\n",
    "y_train = cars2.loc[train, 'MPG']\n"
   ]
  },
  {
   "cell_type": "code",
   "execution_count": 19,
   "metadata": {},
   "outputs": [
    {
     "data": {
      "text/plain": [
       "array([  0,   9,  29,  31,  34,  37,  38,  43,  45,  46,  48,  49,  50,\n",
       "        54,  55,  57,  60,  64,  65,  69,  76,  77,  79,  89,  91,  94,\n",
       "        95,  98, 101, 102, 105, 106, 112, 122, 124, 126, 128, 130, 134,\n",
       "       135, 137, 138, 150, 154, 155, 158, 170, 172, 176, 179, 181, 184,\n",
       "       185, 187, 190, 192, 194, 199, 200, 202, 204, 208, 209, 210, 214,\n",
       "       216, 218, 229, 234, 249, 250, 251, 258, 263, 264, 269, 272, 273,\n",
       "       274, 277, 280, 284, 286, 292, 295, 297, 298, 299, 308, 312, 321,\n",
       "       322, 323, 328, 330, 336, 340, 342, 344, 345, 350, 352, 356, 358,\n",
       "       360, 362, 366, 368, 372, 374, 375, 376, 378, 383, 388, 390, 392,\n",
       "       393, 404])"
      ]
     },
     "execution_count": 19,
     "metadata": {},
     "output_type": "execute_result"
    }
   ],
   "source": [
    "#Step 3 - Get the indices for the test data\n",
    "\n",
    "test = []\n",
    "for i in list(cars2.index):\n",
    "    if i not in train:\n",
    "        test.append(i)\n",
    "        \n",
    "test = np.array(test)\n",
    "test.sort()\n",
    "test"
   ]
  },
  {
   "cell_type": "code",
   "execution_count": 20,
   "metadata": {},
   "outputs": [],
   "source": [
    "#Step 4 - Slice the test data\n",
    "X_test = cars2.loc[test, ['Weight']]\n",
    "y_test = cars2.loc[test, 'MPG']\n"
   ]
  },
  {
   "cell_type": "code",
   "execution_count": 21,
   "metadata": {},
   "outputs": [
    {
     "name": "stdout",
     "output_type": "stream",
     "text": [
      "279 279\n",
      "119 119\n"
     ]
    }
   ],
   "source": [
    "#Some checks...\n",
    "print(len(train), len(train))\n",
    "print(len(test), len(X_test))\n"
   ]
  },
  {
   "cell_type": "code",
   "execution_count": 22,
   "metadata": {},
   "outputs": [
    {
     "data": {
      "text/plain": [
       "398"
      ]
     },
     "execution_count": 22,
     "metadata": {},
     "output_type": "execute_result"
    }
   ],
   "source": [
    "279+119"
   ]
  },
  {
   "cell_type": "markdown",
   "metadata": {},
   "source": [
    "### 7. Fitting a Simple Linear Regression Model (Using the statsmodel package)"
   ]
  },
  {
   "cell_type": "code",
   "execution_count": 23,
   "metadata": {},
   "outputs": [
    {
     "data": {
      "text/html": [
       "<div>\n",
       "<style scoped>\n",
       "    .dataframe tbody tr th:only-of-type {\n",
       "        vertical-align: middle;\n",
       "    }\n",
       "\n",
       "    .dataframe tbody tr th {\n",
       "        vertical-align: top;\n",
       "    }\n",
       "\n",
       "    .dataframe thead th {\n",
       "        text-align: right;\n",
       "    }\n",
       "</style>\n",
       "<table border=\"1\" class=\"dataframe\">\n",
       "  <thead>\n",
       "    <tr style=\"text-align: right;\">\n",
       "      <th></th>\n",
       "      <th>const</th>\n",
       "      <th>Weight</th>\n",
       "    </tr>\n",
       "  </thead>\n",
       "  <tbody>\n",
       "    <tr>\n",
       "      <th>1</th>\n",
       "      <td>1.0</td>\n",
       "      <td>3693</td>\n",
       "    </tr>\n",
       "    <tr>\n",
       "      <th>2</th>\n",
       "      <td>1.0</td>\n",
       "      <td>3436</td>\n",
       "    </tr>\n",
       "    <tr>\n",
       "      <th>3</th>\n",
       "      <td>1.0</td>\n",
       "      <td>3433</td>\n",
       "    </tr>\n",
       "    <tr>\n",
       "      <th>4</th>\n",
       "      <td>1.0</td>\n",
       "      <td>3449</td>\n",
       "    </tr>\n",
       "    <tr>\n",
       "      <th>5</th>\n",
       "      <td>1.0</td>\n",
       "      <td>4341</td>\n",
       "    </tr>\n",
       "  </tbody>\n",
       "</table>\n",
       "</div>"
      ],
      "text/plain": [
       "   const  Weight\n",
       "1    1.0    3693\n",
       "2    1.0    3436\n",
       "3    1.0    3433\n",
       "4    1.0    3449\n",
       "5    1.0    4341"
      ]
     },
     "execution_count": 23,
     "metadata": {},
     "output_type": "execute_result"
    }
   ],
   "source": [
    "#This step is done to add get the constant term for the model\n",
    "X_train = stm.add_constant(X_train)  #This will help us to get the value of a in Y = a + bX\n",
    "X_train.head()"
   ]
  },
  {
   "cell_type": "code",
   "execution_count": 24,
   "metadata": {},
   "outputs": [
    {
     "data": {
      "text/html": [
       "<table class=\"simpletable\">\n",
       "<caption>OLS Regression Results</caption>\n",
       "<tr>\n",
       "  <th>Dep. Variable:</th>           <td>MPG</td>       <th>  R-squared:         </th> <td>   0.674</td>\n",
       "</tr>\n",
       "<tr>\n",
       "  <th>Model:</th>                   <td>OLS</td>       <th>  Adj. R-squared:    </th> <td>   0.673</td>\n",
       "</tr>\n",
       "<tr>\n",
       "  <th>Method:</th>             <td>Least Squares</td>  <th>  F-statistic:       </th> <td>   572.4</td>\n",
       "</tr>\n",
       "<tr>\n",
       "  <th>Date:</th>             <td>Thu, 24 Oct 2019</td> <th>  Prob (F-statistic):</th> <td>2.32e-69</td>\n",
       "</tr>\n",
       "<tr>\n",
       "  <th>Time:</th>                 <td>23:39:31</td>     <th>  Log-Likelihood:    </th> <td> -816.49</td>\n",
       "</tr>\n",
       "<tr>\n",
       "  <th>No. Observations:</th>      <td>   279</td>      <th>  AIC:               </th> <td>   1637.</td>\n",
       "</tr>\n",
       "<tr>\n",
       "  <th>Df Residuals:</th>          <td>   277</td>      <th>  BIC:               </th> <td>   1644.</td>\n",
       "</tr>\n",
       "<tr>\n",
       "  <th>Df Model:</th>              <td>     1</td>      <th>                     </th>     <td> </td>   \n",
       "</tr>\n",
       "<tr>\n",
       "  <th>Covariance Type:</th>      <td>nonrobust</td>    <th>                     </th>     <td> </td>   \n",
       "</tr>\n",
       "</table>\n",
       "<table class=\"simpletable\">\n",
       "<tr>\n",
       "     <td></td>       <th>coef</th>     <th>std err</th>      <th>t</th>      <th>P>|t|</th>  <th>[0.025</th>    <th>0.975]</th>  \n",
       "</tr>\n",
       "<tr>\n",
       "  <th>const</th>  <td>   46.5396</td> <td>    0.994</td> <td>   46.804</td> <td> 0.000</td> <td>   44.582</td> <td>   48.497</td>\n",
       "</tr>\n",
       "<tr>\n",
       "  <th>Weight</th> <td>   -0.0078</td> <td>    0.000</td> <td>  -23.925</td> <td> 0.000</td> <td>   -0.008</td> <td>   -0.007</td>\n",
       "</tr>\n",
       "</table>\n",
       "<table class=\"simpletable\">\n",
       "<tr>\n",
       "  <th>Omnibus:</th>       <td>28.188</td> <th>  Durbin-Watson:     </th> <td>   0.754</td>\n",
       "</tr>\n",
       "<tr>\n",
       "  <th>Prob(Omnibus):</th> <td> 0.000</td> <th>  Jarque-Bera (JB):  </th> <td>  38.702</td>\n",
       "</tr>\n",
       "<tr>\n",
       "  <th>Skew:</th>          <td> 0.684</td> <th>  Prob(JB):          </th> <td>3.94e-09</td>\n",
       "</tr>\n",
       "<tr>\n",
       "  <th>Kurtosis:</th>      <td> 4.207</td> <th>  Cond. No.          </th> <td>1.12e+04</td>\n",
       "</tr>\n",
       "</table>"
      ],
      "text/plain": [
       "<class 'statsmodels.iolib.summary.Summary'>\n",
       "\"\"\"\n",
       "                            OLS Regression Results                            \n",
       "==============================================================================\n",
       "Dep. Variable:                    MPG   R-squared:                       0.674\n",
       "Model:                            OLS   Adj. R-squared:                  0.673\n",
       "Method:                 Least Squares   F-statistic:                     572.4\n",
       "Date:                Thu, 24 Oct 2019   Prob (F-statistic):           2.32e-69\n",
       "Time:                        23:39:31   Log-Likelihood:                -816.49\n",
       "No. Observations:                 279   AIC:                             1637.\n",
       "Df Residuals:                     277   BIC:                             1644.\n",
       "Df Model:                           1                                         \n",
       "Covariance Type:            nonrobust                                         \n",
       "==============================================================================\n",
       "                 coef    std err          t      P>|t|      [0.025      0.975]\n",
       "------------------------------------------------------------------------------\n",
       "const         46.5396      0.994     46.804      0.000      44.582      48.497\n",
       "Weight        -0.0078      0.000    -23.925      0.000      -0.008      -0.007\n",
       "==============================================================================\n",
       "Omnibus:                       28.188   Durbin-Watson:                   0.754\n",
       "Prob(Omnibus):                  0.000   Jarque-Bera (JB):               38.702\n",
       "Skew:                           0.684   Prob(JB):                     3.94e-09\n",
       "Kurtosis:                       4.207   Cond. No.                     1.12e+04\n",
       "==============================================================================\n",
       "\n",
       "Warnings:\n",
       "[1] Standard Errors assume that the covariance matrix of the errors is correctly specified.\n",
       "[2] The condition number is large, 1.12e+04. This might indicate that there are\n",
       "strong multicollinearity or other numerical problems.\n",
       "\"\"\""
      ]
     },
     "execution_count": 24,
     "metadata": {},
     "output_type": "execute_result"
    }
   ],
   "source": [
    "#Ordinary Least Squared (OLS) Regression\n",
    "model = stm.OLS(y_train,X_train).fit()  \n",
    "model.summary()"
   ]
  },
  {
   "cell_type": "markdown",
   "metadata": {},
   "source": [
    "R-squared = 0.674\n",
    "a = 46.5396\n",
    "b = -0.00775"
   ]
  },
  {
   "cell_type": "code",
   "execution_count": 25,
   "metadata": {},
   "outputs": [
    {
     "data": {
      "text/plain": [
       "const     46.539608\n",
       "Weight    -0.007751\n",
       "dtype: float64"
      ]
     },
     "execution_count": 25,
     "metadata": {},
     "output_type": "execute_result"
    }
   ],
   "source": [
    "model.params"
   ]
  },
  {
   "cell_type": "markdown",
   "metadata": {},
   "source": [
    "Y = a + b * X\n",
    "MPG = a + b * Weight\n",
    "\n",
    "MPG = 46.5396 - 0.007751 * Weight   --> Linear Regression Equation to Predict MPG on Weight\n",
    "R^2 = 0.674"
   ]
  },
  {
   "cell_type": "markdown",
   "metadata": {},
   "source": [
    "Y = a + b * X\n",
    "\n",
    "b = slope of the line. If X increases by 1 unit then Y increases by b units.\n",
    "a = intercept of the line. It is the value of Y for which the value of X is 0."
   ]
  },
  {
   "cell_type": "markdown",
   "metadata": {},
   "source": [
    "MPG = 46.5396 + -0.007751 * Weight\n",
    "\n",
    "slope = -0.007751   => With 1,000 lb increase in weight the MPG of the car decreases by 0.007751 times.\n",
    "intercept = 46.5396 => The MPG of the car is 46.5396 on average when the weight of the car is 0 lbs (No meaning)"
   ]
  },
  {
   "cell_type": "markdown",
   "metadata": {},
   "source": [
    "R^2 = 0.674 => R^2 is a measure of the goodness of fit of the model. It measured how well the model fits the data.\n",
    "\n",
    "Interpreta\n",
    "tion:\n",
    "R squared: The proportion of variation in the targer explained by the predictor\n",
    "\n",
    "In our case:\n",
    "67.4% of **variation** of the variable MPG is explained by the predictor Weight using this regression model.\n",
    "\n",
    "The value of R squared ranges between 0 to 1 (or 0% to 100%). Higher the value of R square better is the model fit."
   ]
  },
  {
   "cell_type": "code",
   "execution_count": 26,
   "metadata": {},
   "outputs": [],
   "source": [
    "Weight = np.sort(X_train.Weight)\n",
    "#model.params[0] + model.params[1]*Weight #Predicted values of MPG foe a value of Weight"
   ]
  },
  {
   "cell_type": "code",
   "execution_count": 27,
   "metadata": {},
   "outputs": [
    {
     "data": {
      "image/png": "[encoded data removed]",
      "text/plain": [
       "<matplotlib.figure.Figure at 0x28c95adf898>"
      ]
     },
     "metadata": {},
     "output_type": "display_data"
    }
   ],
   "source": [
    "#Ploting the linear regression line\n",
    "\n",
    "#Scatter Plot \n",
    "cars2.plot(kind='scatter', x='Weight', y='MPG', color='black', figsize=(8,6))\n",
    "plt.ylabel('Miles per Gallon', fontsize=12)\n",
    "plt.xlabel('Weight (in lbs) of Cars', fontsize=12)\n",
    "plt.title('Scatter plot of MPG vs Weight',fontsize=14)\n",
    "\n",
    "\n",
    "#Sorted values of Weight\n",
    "Weight = np.sort(X_train.Weight)\n",
    "\n",
    "#Plotting the sorted values of weight with its fitted value\n",
    "plt.plot(Weight, model.params[0] + model.params[1]*Weight)\n",
    "\n",
    "\n",
    "plt.show()\n",
    "\n",
    "\n"
   ]
  },
  {
   "cell_type": "code",
   "execution_count": 28,
   "metadata": {},
   "outputs": [
    {
     "data": {
      "text/plain": [
       "const     46.539608\n",
       "Weight    -0.007751\n",
       "dtype: float64"
      ]
     },
     "execution_count": 28,
     "metadata": {},
     "output_type": "execute_result"
    }
   ],
   "source": [
    "model.params"
   ]
  },
  {
   "cell_type": "markdown",
   "metadata": {},
   "source": [
    "### 8. Making Prediction using the Model (on the test data)"
   ]
  },
  {
   "cell_type": "code",
   "execution_count": 29,
   "metadata": {},
   "outputs": [
    {
     "data": {
      "text/html": [
       "<div>\n",
       "<style scoped>\n",
       "    .dataframe tbody tr th:only-of-type {\n",
       "        vertical-align: middle;\n",
       "    }\n",
       "\n",
       "    .dataframe tbody tr th {\n",
       "        vertical-align: top;\n",
       "    }\n",
       "\n",
       "    .dataframe thead th {\n",
       "        text-align: right;\n",
       "    }\n",
       "</style>\n",
       "<table border=\"1\" class=\"dataframe\">\n",
       "  <thead>\n",
       "    <tr style=\"text-align: right;\">\n",
       "      <th></th>\n",
       "      <th>const</th>\n",
       "      <th>Weight</th>\n",
       "    </tr>\n",
       "  </thead>\n",
       "  <tbody>\n",
       "    <tr>\n",
       "      <th>0</th>\n",
       "      <td>1.0</td>\n",
       "      <td>3504</td>\n",
       "    </tr>\n",
       "    <tr>\n",
       "      <th>9</th>\n",
       "      <td>1.0</td>\n",
       "      <td>3850</td>\n",
       "    </tr>\n",
       "    <tr>\n",
       "      <th>29</th>\n",
       "      <td>1.0</td>\n",
       "      <td>2234</td>\n",
       "    </tr>\n",
       "    <tr>\n",
       "      <th>31</th>\n",
       "      <td>1.0</td>\n",
       "      <td>4615</td>\n",
       "    </tr>\n",
       "    <tr>\n",
       "      <th>34</th>\n",
       "      <td>1.0</td>\n",
       "      <td>4732</td>\n",
       "    </tr>\n",
       "  </tbody>\n",
       "</table>\n",
       "</div>"
      ],
      "text/plain": [
       "    const  Weight\n",
       "0     1.0    3504\n",
       "9     1.0    3850\n",
       "29    1.0    2234\n",
       "31    1.0    4615\n",
       "34    1.0    4732"
      ]
     },
     "execution_count": 29,
     "metadata": {},
     "output_type": "execute_result"
    }
   ],
   "source": [
    "X_test = stm.add_constant(X_test)\n",
    "X_test.head()"
   ]
  },
  {
   "cell_type": "code",
   "execution_count": 30,
   "metadata": {},
   "outputs": [
    {
     "data": {
      "text/plain": [
       "0     19.379685\n",
       "9     16.697797\n",
       "29    29.223607\n",
       "31    10.768191\n",
       "34     9.861310\n",
       "37    29.270114\n",
       "38    30.680817\n",
       "43    20.945411\n",
       "45    13.915145\n",
       "46    11.938610\n",
       "dtype: float64"
      ]
     },
     "execution_count": 30,
     "metadata": {},
     "output_type": "execute_result"
    }
   ],
   "source": [
    "#Prediction\n",
    "#Model: MPG = 46.5396 - 0.007751 * Weight\n",
    "model.predict(X_test)[:10]\n",
    "\n",
    "#[46.53   -0.0077]*X_test"
   ]
  },
  {
   "cell_type": "code",
   "execution_count": 31,
   "metadata": {},
   "outputs": [
    {
     "data": {
      "text/plain": [
       "0     19.379685\n",
       "9     16.697797\n",
       "29    29.223607\n",
       "31    10.768191\n",
       "34     9.861310\n",
       "37    29.270114\n",
       "38    30.680817\n",
       "43    20.945411\n",
       "45    13.915145\n",
       "46    11.938610\n",
       "dtype: float64"
      ]
     },
     "execution_count": 31,
     "metadata": {},
     "output_type": "execute_result"
    }
   ],
   "source": [
    "#Storing the predicted values in an array\n",
    "pred = model.predict(X_test)\n",
    "pred[:10]"
   ]
  },
  {
   "cell_type": "code",
   "execution_count": 32,
   "metadata": {},
   "outputs": [
    {
     "data": {
      "text/plain": [
       "0     18.0\n",
       "9     15.0\n",
       "29    26.0\n",
       "31    10.0\n",
       "34     9.0\n",
       "37    25.0\n",
       "38    25.0\n",
       "43    19.0\n",
       "45    14.0\n",
       "46    14.0\n",
       "Name: MPG, dtype: float64"
      ]
     },
     "execution_count": 32,
     "metadata": {},
     "output_type": "execute_result"
    }
   ],
   "source": [
    "y_test[:10]"
   ]
  },
  {
   "cell_type": "markdown",
   "metadata": {
    "collapsed": true
   },
   "source": [
    "### 9. Checking Accuracy"
   ]
  },
  {
   "cell_type": "code",
   "execution_count": 33,
   "metadata": {},
   "outputs": [
    {
     "data": {
      "text/plain": [
       "-0.003071992307418098"
      ]
     },
     "execution_count": 33,
     "metadata": {},
     "output_type": "execute_result"
    }
   ],
   "source": [
    "#Error = actual - predicted\n",
    "e = y_test - pred\n",
    "np.mean(e)"
   ]
  },
  {
   "cell_type": "code",
   "execution_count": 34,
   "metadata": {},
   "outputs": [
    {
     "data": {
      "text/plain": [
       "3.9083793892163223"
      ]
     },
     "execution_count": 34,
     "metadata": {},
     "output_type": "execute_result"
    }
   ],
   "source": [
    "#Error^2\n",
    "e**2\n",
    "\n",
    "#RMSE = sqrt(sum(e**2)/(ntest-1))\n",
    "math.sqrt(sum(e**2)/(len(y_test)-2))"
   ]
  },
  {
   "cell_type": "code",
   "execution_count": 35,
   "metadata": {},
   "outputs": [
    {
     "data": {
      "text/plain": [
       "1787.225245655962"
      ]
     },
     "execution_count": 35,
     "metadata": {},
     "output_type": "execute_result"
    }
   ],
   "source": [
    "#RSS = sum of squared error; Note: RMSE = sqrt(RSS/(ntest-2))\n",
    "rss = np.sum(e**2)\n",
    "rss"
   ]
  },
  {
   "cell_type": "markdown",
   "metadata": {},
   "source": [
    "A Model must have larger value of R square and smaller value of RMSE."
   ]
  },
  {
   "cell_type": "code",
   "execution_count": 36,
   "metadata": {},
   "outputs": [
    {
     "data": {
      "text/plain": [
       "16.550162413984694"
      ]
     },
     "execution_count": 36,
     "metadata": {},
     "output_type": "execute_result"
    }
   ],
   "source": [
    "#Percentage error\n",
    "(3.8917/np.mean(cars2.MPG))*100"
   ]
  },
  {
   "cell_type": "markdown",
   "metadata": {},
   "source": [
    "Our prediction error are off by an average amount of 16.55%. If that is ok for you you may proceed."
   ]
  },
  {
   "cell_type": "code",
   "execution_count": null,
   "metadata": {},
   "outputs": [],
   "source": []
  },
  {
   "cell_type": "markdown",
   "metadata": {},
   "source": [
    "### 10. Diagnostic Plots"
   ]
  },
  {
   "cell_type": "markdown",
   "metadata": {},
   "source": [
    "Calculations required for some of the plots"
   ]
  },
  {
   "cell_type": "code",
   "execution_count": 37,
   "metadata": {},
   "outputs": [],
   "source": [
    "%matplotlib inline\n",
    "import numpy as np\n",
    "import pandas as pd\n",
    "import seaborn as sns\n",
    "import matplotlib.pyplot as plt\n",
    "import statsmodels.formula.api as smf\n",
    "from statsmodels.graphics.gofplots import ProbPlot\n",
    "plt.style.use('seaborn') # pretty matplotlib plots\n",
    "plt.rc('font', size=14)\n",
    "plt.rc('figure', titlesize=18)\n",
    "plt.rc('axes', labelsize=15)\n",
    "plt.rc('axes', titlesize=18)"
   ]
  },
  {
   "cell_type": "code",
   "execution_count": 38,
   "metadata": {},
   "outputs": [],
   "source": [
    "# fitted values (need a constant term for intercept)\n",
    "model_fitted_y = model.fittedvalues\n",
    "# model residuals\n",
    "model_residuals = model.resid\n",
    "# normalized residuals\n",
    "model_norm_residuals = model.get_influence().resid_studentized_internal\n",
    "# absolute squared normalized residuals\n",
    "model_norm_residuals_abs_sqrt = np.sqrt(np.abs(model_norm_residuals))\n",
    "# absolute residuals\n",
    "model_abs_resid = np.abs(model_residuals)\n",
    "# leverage, from statsmodels internals\n",
    "model_leverage = model.get_influence().hat_matrix_diag\n",
    "# cook's distance, from statsmodels internals\n",
    "model_cooks = model.get_influence().cooks_distance[0]"
   ]
  },
  {
   "cell_type": "code",
   "execution_count": 39,
   "metadata": {},
   "outputs": [
    {
     "data": {
      "image/png": "[encoded data removed]",
      "text/plain": [
       "<matplotlib.figure.Figure at 0x28c96002240>"
      ]
     },
     "metadata": {},
     "output_type": "display_data"
    }
   ],
   "source": [
    "plot_lm_1 = plt.figure(1)\n",
    "plot_lm_1.set_figheight(8)\n",
    "plot_lm_1.set_figwidth(12)\n",
    "\n",
    "\n",
    "\n",
    "plot_lm_1.axes[0] = sns.residplot(model_fitted_y, y_train,\n",
    "                          lowess=True, \n",
    "                          scatter_kws={'alpha': 0.5}, \n",
    "                          line_kws={'color': 'red', 'lw': 1, 'alpha': 0.8})\n",
    "\n",
    "\n",
    "\n",
    "\n",
    "plot_lm_1.axes[0].set_title('Residuals vs Fitted')\n",
    "plot_lm_1.axes[0].set_xlabel('Fitted values')\n",
    "plot_lm_1.axes[0].set_ylabel('Residuals')\n",
    "\n",
    "\n",
    "# annotations\n",
    "abs_resid = model_abs_resid.sort_values(ascending=False)\n",
    "abs_resid_top_3 = abs_resid[:3]\n",
    "for i in abs_resid_top_3.index:\n",
    "    plot_lm_1.axes[0].annotate(i, \n",
    "                               xy=(model_fitted_y[i], \n",
    "                                   model_residuals[i]));\n"
   ]
  },
  {
   "cell_type": "code",
   "execution_count": 40,
   "metadata": {},
   "outputs": [
    {
     "data": {
      "image/png": "[encoded data removed]",
      "text/plain": [
       "<matplotlib.figure.Figure at 0x28c96047080>"
      ]
     },
     "metadata": {},
     "output_type": "display_data"
    }
   ],
   "source": [
    "QQ = ProbPlot(model_norm_residuals)\n",
    "plot_lm_2 = QQ.qqplot(line='45', alpha=0.5, color='#4C72B0', lw=1)\n",
    "plot_lm_2.set_figheight(8)\n",
    "plot_lm_2.set_figwidth(12)\n",
    "plot_lm_2.axes[0].set_title('Normal Q-Q')\n",
    "plot_lm_2.axes[0].set_xlabel('Theoretical Quantiles')\n",
    "plot_lm_2.axes[0].set_ylabel('Standardized Residuals');\n",
    "# annotations\n",
    "abs_norm_resid = np.flip(np.argsort(np.abs(model_norm_residuals)), 0)\n",
    "abs_norm_resid_top_3 = abs_norm_resid[:3]\n",
    "for r, i in enumerate(abs_norm_resid_top_3):\n",
    "    plot_lm_2.axes[0].annotate(i, \n",
    "                               xy=(np.flip(QQ.theoretical_quantiles, 0)[r],\n",
    "                                   model_norm_residuals[i]));"
   ]
  },
  {
   "cell_type": "code",
   "execution_count": 41,
   "metadata": {},
   "outputs": [
    {
     "ename": "KeyError",
     "evalue": "269",
     "output_type": "error",
     "traceback": [
      "\u001b[1;31m---------------------------------------------------------------------------\u001b[0m",
      "\u001b[1;31mKeyError\u001b[0m                                  Traceback (most recent call last)",
      "\u001b[1;32m<ipython-input-41-ccf5545dd899>\u001b[0m in \u001b[0;36m<module>\u001b[1;34m()\u001b[0m\n\u001b[0;32m     16\u001b[0m \u001b[1;32mfor\u001b[0m \u001b[0mi\u001b[0m \u001b[1;32min\u001b[0m \u001b[0mabs_norm_resid_top_3\u001b[0m\u001b[1;33m:\u001b[0m\u001b[1;33m\u001b[0m\u001b[0m\n\u001b[0;32m     17\u001b[0m     plot_lm_3.axes[0].annotate(i, \n\u001b[1;32m---> 18\u001b[1;33m                                xy=(model_fitted_y[i], \n\u001b[0m\u001b[0;32m     19\u001b[0m                                    model_norm_residuals_abs_sqrt[i]));\n",
      "\u001b[1;32m~\\AppData\\Local\\Continuum\\anaconda3\\lib\\site-packages\\pandas\\core\\series.py\u001b[0m in \u001b[0;36m__getitem__\u001b[1;34m(self, key)\u001b[0m\n\u001b[0;32m    621\u001b[0m         \u001b[0mkey\u001b[0m \u001b[1;33m=\u001b[0m \u001b[0mcom\u001b[0m\u001b[1;33m.\u001b[0m\u001b[0m_apply_if_callable\u001b[0m\u001b[1;33m(\u001b[0m\u001b[0mkey\u001b[0m\u001b[1;33m,\u001b[0m \u001b[0mself\u001b[0m\u001b[1;33m)\u001b[0m\u001b[1;33m\u001b[0m\u001b[0m\n\u001b[0;32m    622\u001b[0m         \u001b[1;32mtry\u001b[0m\u001b[1;33m:\u001b[0m\u001b[1;33m\u001b[0m\u001b[0m\n\u001b[1;32m--> 623\u001b[1;33m             \u001b[0mresult\u001b[0m \u001b[1;33m=\u001b[0m \u001b[0mself\u001b[0m\u001b[1;33m.\u001b[0m\u001b[0mindex\u001b[0m\u001b[1;33m.\u001b[0m\u001b[0mget_value\u001b[0m\u001b[1;33m(\u001b[0m\u001b[0mself\u001b[0m\u001b[1;33m,\u001b[0m \u001b[0mkey\u001b[0m\u001b[1;33m)\u001b[0m\u001b[1;33m\u001b[0m\u001b[0m\n\u001b[0m\u001b[0;32m    624\u001b[0m \u001b[1;33m\u001b[0m\u001b[0m\n\u001b[0;32m    625\u001b[0m             \u001b[1;32mif\u001b[0m \u001b[1;32mnot\u001b[0m \u001b[0mis_scalar\u001b[0m\u001b[1;33m(\u001b[0m\u001b[0mresult\u001b[0m\u001b[1;33m)\u001b[0m\u001b[1;33m:\u001b[0m\u001b[1;33m\u001b[0m\u001b[0m\n",
      "\u001b[1;32m~\\AppData\\Local\\Continuum\\anaconda3\\lib\\site-packages\\pandas\\core\\indexes\\base.py\u001b[0m in \u001b[0;36mget_value\u001b[1;34m(self, series, key)\u001b[0m\n\u001b[0;32m   2558\u001b[0m         \u001b[1;32mtry\u001b[0m\u001b[1;33m:\u001b[0m\u001b[1;33m\u001b[0m\u001b[0m\n\u001b[0;32m   2559\u001b[0m             return self._engine.get_value(s, k,\n\u001b[1;32m-> 2560\u001b[1;33m                                           tz=getattr(series.dtype, 'tz', None))\n\u001b[0m\u001b[0;32m   2561\u001b[0m         \u001b[1;32mexcept\u001b[0m \u001b[0mKeyError\u001b[0m \u001b[1;32mas\u001b[0m \u001b[0me1\u001b[0m\u001b[1;33m:\u001b[0m\u001b[1;33m\u001b[0m\u001b[0m\n\u001b[0;32m   2562\u001b[0m             \u001b[1;32mif\u001b[0m \u001b[0mlen\u001b[0m\u001b[1;33m(\u001b[0m\u001b[0mself\u001b[0m\u001b[1;33m)\u001b[0m \u001b[1;33m>\u001b[0m \u001b[1;36m0\u001b[0m \u001b[1;32mand\u001b[0m \u001b[0mself\u001b[0m\u001b[1;33m.\u001b[0m\u001b[0minferred_type\u001b[0m \u001b[1;32min\u001b[0m \u001b[1;33m[\u001b[0m\u001b[1;34m'integer'\u001b[0m\u001b[1;33m,\u001b[0m \u001b[1;34m'boolean'\u001b[0m\u001b[1;33m]\u001b[0m\u001b[1;33m:\u001b[0m\u001b[1;33m\u001b[0m\u001b[0m\n",
      "\u001b[1;32mpandas/_libs/index.pyx\u001b[0m in \u001b[0;36mpandas._libs.index.IndexEngine.get_value\u001b[1;34m()\u001b[0m\n",
      "\u001b[1;32mpandas/_libs/index.pyx\u001b[0m in \u001b[0;36mpandas._libs.index.IndexEngine.get_value\u001b[1;34m()\u001b[0m\n",
      "\u001b[1;32mpandas/_libs/index.pyx\u001b[0m in \u001b[0;36mpandas._libs.index.IndexEngine.get_loc\u001b[1;34m()\u001b[0m\n",
      "\u001b[1;32mpandas/_libs/hashtable_class_helper.pxi\u001b[0m in \u001b[0;36mpandas._libs.hashtable.Int64HashTable.get_item\u001b[1;34m()\u001b[0m\n",
      "\u001b[1;32mpandas/_libs/hashtable_class_helper.pxi\u001b[0m in \u001b[0;36mpandas._libs.hashtable.Int64HashTable.get_item\u001b[1;34m()\u001b[0m\n",
      "\u001b[1;31mKeyError\u001b[0m: 269"
     ]
    },
    {
     "data": {
      "image/png": "[encoded data removed]",
      "text/plain": [
       "<matplotlib.figure.Figure at 0x28c960697f0>"
      ]
     },
     "metadata": {},
     "output_type": "display_data"
    }
   ],
   "source": [
    "plot_lm_3 = plt.figure(3)\n",
    "plot_lm_3.set_figheight(8)\n",
    "plot_lm_3.set_figwidth(12)\n",
    "plt.scatter(model_fitted_y, model_norm_residuals_abs_sqrt, alpha=0.5)\n",
    "sns.regplot(model_fitted_y, model_norm_residuals_abs_sqrt, \n",
    "            scatter=False, \n",
    "            ci=False, \n",
    "            lowess=True,\n",
    "            line_kws={'color': 'red', 'lw': 1, 'alpha': 0.8})\n",
    "plot_lm_3.axes[0].set_title('Scale-Location')\n",
    "plot_lm_3.axes[0].set_xlabel('Fitted values')\n",
    "plot_lm_3.axes[0].set_ylabel('$\\sqrt{|Standardized Residuals|}$');\n",
    "# annotations\n",
    "abs_sq_norm_resid = np.flip(np.argsort(model_norm_residuals_abs_sqrt), 0)\n",
    "abs_sq_norm_resid_top_3 = abs_sq_norm_resid[:3]\n",
    "for i in abs_norm_resid_top_3:\n",
    "    plot_lm_3.axes[0].annotate(i, \n",
    "                               xy=(model_fitted_y[i], \n",
    "                                   model_norm_residuals_abs_sqrt[i]));"
   ]
  },
  {
   "cell_type": "code",
   "execution_count": null,
   "metadata": {},
   "outputs": [],
   "source": []
  },
  {
   "cell_type": "code",
   "execution_count": 42,
   "metadata": {},
   "outputs": [
    {
     "data": {
      "image/png": "[encoded data removed]",
      "text/plain": [
       "<matplotlib.figure.Figure at 0x28c96935c18>"
      ]
     },
     "metadata": {},
     "output_type": "display_data"
    }
   ],
   "source": [
    "plot_lm_4 = plt.figure(4)\n",
    "plot_lm_4.set_figheight(8)\n",
    "plot_lm_4.set_figwidth(12)\n",
    "plt.scatter(model_leverage, model_norm_residuals, alpha=0.5)\n",
    "sns.regplot(model_leverage, model_norm_residuals, \n",
    "            scatter=False, \n",
    "            ci=False, \n",
    "            lowess=True,\n",
    "            line_kws={'color': 'red', 'lw': 1, 'alpha': 0.8})\n",
    "plot_lm_4.axes[0].set_xlim(0, 0.20)\n",
    "plot_lm_4.axes[0].set_ylim(-3, 5)\n",
    "plot_lm_4.axes[0].set_title('Residuals vs Leverage')\n",
    "plot_lm_4.axes[0].set_xlabel('Leverage')\n",
    "plot_lm_4.axes[0].set_ylabel('Standardized Residuals')\n",
    "# annotations\n",
    "leverage_top_3 = np.flip(np.argsort(model_cooks), 0)[:3]\n",
    "for i in leverage_top_3:\n",
    "    plot_lm_4.axes[0].annotate(i, \n",
    "                               xy=(model_leverage[i], \n",
    "                                   model_norm_residuals[i]))\n",
    "    \n",
    "# shenanigans for cook's distance contours\n",
    "def graph(formula, x_range, label=None):\n",
    "    x = x_range\n",
    "    y = formula(x)\n",
    "    plt.plot(x, y, label=label, lw=1, ls='--', color='red')\n",
    "p = len(model.params) # number of model parameters\n",
    "graph(lambda x: np.sqrt((0.5 * p * (1 - x)) / x), \n",
    "      np.linspace(0.001, 0.200, 50), \n",
    "      'Cook\\'s distance') # 0.5 line\n",
    "graph(lambda x: np.sqrt((1 * p * (1 - x)) / x), \n",
    "      np.linspace(0.001, 0.200, 50)) # 1 line\n",
    "plt.legend(loc='upper right');"
   ]
  },
  {
   "cell_type": "markdown",
   "metadata": {},
   "source": [
    "### 11. Improving the Model"
   ]
  },
  {
   "cell_type": "code",
   "execution_count": 43,
   "metadata": {},
   "outputs": [
    {
     "name": "stderr",
     "output_type": "stream",
     "text": [
      "C:\\Users\\MANDY\\AppData\\Local\\Continuum\\anaconda3\\lib\\site-packages\\ipykernel_launcher.py:2: SettingWithCopyWarning: \n",
      "A value is trying to be set on a copy of a slice from a DataFrame.\n",
      "Try using .loc[row_indexer,col_indexer] = value instead\n",
      "\n",
      "See the caveats in the documentation: http://pandas.pydata.org/pandas-docs/stable/indexing.html#indexing-view-versus-copy\n",
      "  \n",
      "C:\\Users\\MANDY\\AppData\\Local\\Continuum\\anaconda3\\lib\\site-packages\\ipykernel_launcher.py:3: SettingWithCopyWarning: \n",
      "A value is trying to be set on a copy of a slice from a DataFrame.\n",
      "Try using .loc[row_indexer,col_indexer] = value instead\n",
      "\n",
      "See the caveats in the documentation: http://pandas.pydata.org/pandas-docs/stable/indexing.html#indexing-view-versus-copy\n",
      "  This is separate from the ipykernel package so we can avoid doing imports until\n"
     ]
    }
   ],
   "source": [
    "#Taking log transformation of the variables\n",
    "cars2['log_Weight'] = np.log(cars2.Weight)\n",
    "cars2['log_MPG'] = np.log(cars2.MPG)"
   ]
  },
  {
   "cell_type": "code",
   "execution_count": 44,
   "metadata": {},
   "outputs": [
    {
     "data": {
      "text/html": [
       "<div>\n",
       "<style scoped>\n",
       "    .dataframe tbody tr th:only-of-type {\n",
       "        vertical-align: middle;\n",
       "    }\n",
       "\n",
       "    .dataframe tbody tr th {\n",
       "        vertical-align: top;\n",
       "    }\n",
       "\n",
       "    .dataframe thead th {\n",
       "        text-align: right;\n",
       "    }\n",
       "</style>\n",
       "<table border=\"1\" class=\"dataframe\">\n",
       "  <thead>\n",
       "    <tr style=\"text-align: right;\">\n",
       "      <th></th>\n",
       "      <th>Car</th>\n",
       "      <th>MPG</th>\n",
       "      <th>Cylinders</th>\n",
       "      <th>Displacement</th>\n",
       "      <th>Horsepower</th>\n",
       "      <th>Weight</th>\n",
       "      <th>Acceleration</th>\n",
       "      <th>Model</th>\n",
       "      <th>Origin</th>\n",
       "      <th>log_Weight</th>\n",
       "      <th>log_MPG</th>\n",
       "    </tr>\n",
       "  </thead>\n",
       "  <tbody>\n",
       "    <tr>\n",
       "      <th>0</th>\n",
       "      <td>Chevrolet Chevelle Malibu</td>\n",
       "      <td>18.0</td>\n",
       "      <td>8</td>\n",
       "      <td>307.0</td>\n",
       "      <td>130</td>\n",
       "      <td>3504</td>\n",
       "      <td>12.0</td>\n",
       "      <td>70</td>\n",
       "      <td>US</td>\n",
       "      <td>8.161660</td>\n",
       "      <td>2.890372</td>\n",
       "    </tr>\n",
       "    <tr>\n",
       "      <th>1</th>\n",
       "      <td>Buick Skylark 320</td>\n",
       "      <td>15.0</td>\n",
       "      <td>8</td>\n",
       "      <td>350.0</td>\n",
       "      <td>165</td>\n",
       "      <td>3693</td>\n",
       "      <td>11.5</td>\n",
       "      <td>70</td>\n",
       "      <td>US</td>\n",
       "      <td>8.214194</td>\n",
       "      <td>2.708050</td>\n",
       "    </tr>\n",
       "    <tr>\n",
       "      <th>2</th>\n",
       "      <td>Plymouth Satellite</td>\n",
       "      <td>18.0</td>\n",
       "      <td>8</td>\n",
       "      <td>318.0</td>\n",
       "      <td>150</td>\n",
       "      <td>3436</td>\n",
       "      <td>11.0</td>\n",
       "      <td>70</td>\n",
       "      <td>US</td>\n",
       "      <td>8.142063</td>\n",
       "      <td>2.890372</td>\n",
       "    </tr>\n",
       "    <tr>\n",
       "      <th>3</th>\n",
       "      <td>AMC Rebel SST</td>\n",
       "      <td>16.0</td>\n",
       "      <td>8</td>\n",
       "      <td>304.0</td>\n",
       "      <td>150</td>\n",
       "      <td>3433</td>\n",
       "      <td>12.0</td>\n",
       "      <td>70</td>\n",
       "      <td>US</td>\n",
       "      <td>8.141190</td>\n",
       "      <td>2.772589</td>\n",
       "    </tr>\n",
       "    <tr>\n",
       "      <th>4</th>\n",
       "      <td>Ford Torino</td>\n",
       "      <td>17.0</td>\n",
       "      <td>8</td>\n",
       "      <td>302.0</td>\n",
       "      <td>140</td>\n",
       "      <td>3449</td>\n",
       "      <td>10.5</td>\n",
       "      <td>70</td>\n",
       "      <td>US</td>\n",
       "      <td>8.145840</td>\n",
       "      <td>2.833213</td>\n",
       "    </tr>\n",
       "  </tbody>\n",
       "</table>\n",
       "</div>"
      ],
      "text/plain": [
       "                         Car   MPG  Cylinders  Displacement  Horsepower  \\\n",
       "0  Chevrolet Chevelle Malibu  18.0          8         307.0         130   \n",
       "1          Buick Skylark 320  15.0          8         350.0         165   \n",
       "2         Plymouth Satellite  18.0          8         318.0         150   \n",
       "3              AMC Rebel SST  16.0          8         304.0         150   \n",
       "4                Ford Torino  17.0          8         302.0         140   \n",
       "\n",
       "   Weight  Acceleration  Model Origin  log_Weight   log_MPG  \n",
       "0    3504          12.0     70     US    8.161660  2.890372  \n",
       "1    3693          11.5     70     US    8.214194  2.708050  \n",
       "2    3436          11.0     70     US    8.142063  2.890372  \n",
       "3    3433          12.0     70     US    8.141190  2.772589  \n",
       "4    3449          10.5     70     US    8.145840  2.833213  "
      ]
     },
     "execution_count": 44,
     "metadata": {},
     "output_type": "execute_result"
    }
   ],
   "source": [
    "cars2.head()"
   ]
  },
  {
   "cell_type": "code",
   "execution_count": 45,
   "metadata": {},
   "outputs": [
    {
     "data": {
      "image/png": "[encoded data removed]",
      "text/plain": [
       "<matplotlib.figure.Figure at 0x28c968be668>"
      ]
     },
     "metadata": {},
     "output_type": "display_data"
    }
   ],
   "source": [
    "cars2.plot(kind='scatter', x='log_Weight', y='log_MPG')\n",
    "plt.show()"
   ]
  },
  {
   "cell_type": "code",
   "execution_count": 46,
   "metadata": {},
   "outputs": [],
   "source": [
    "#Creating the train and test data\n",
    "\n",
    "#Training Data\n",
    "X_train = cars2.loc[train, ['log_Weight']]\n",
    "y_train = cars2.loc[train, 'log_MPG']\n",
    "\n",
    "#Test Data\n",
    "X_test = cars2.loc[test, ['log_Weight']]\n",
    "y_test = cars2.loc[test, 'log_MPG']\n",
    "\n",
    "#Adding a column for constant\n",
    "X_train = stm.add_constant(X_train)"
   ]
  },
  {
   "cell_type": "code",
   "execution_count": 47,
   "metadata": {},
   "outputs": [
    {
     "data": {
      "text/html": [
       "<div>\n",
       "<style scoped>\n",
       "    .dataframe tbody tr th:only-of-type {\n",
       "        vertical-align: middle;\n",
       "    }\n",
       "\n",
       "    .dataframe tbody tr th {\n",
       "        vertical-align: top;\n",
       "    }\n",
       "\n",
       "    .dataframe thead th {\n",
       "        text-align: right;\n",
       "    }\n",
       "</style>\n",
       "<table border=\"1\" class=\"dataframe\">\n",
       "  <thead>\n",
       "    <tr style=\"text-align: right;\">\n",
       "      <th></th>\n",
       "      <th>const</th>\n",
       "      <th>log_Weight</th>\n",
       "    </tr>\n",
       "  </thead>\n",
       "  <tbody>\n",
       "    <tr>\n",
       "      <th>1</th>\n",
       "      <td>1.0</td>\n",
       "      <td>8.214194</td>\n",
       "    </tr>\n",
       "    <tr>\n",
       "      <th>2</th>\n",
       "      <td>1.0</td>\n",
       "      <td>8.142063</td>\n",
       "    </tr>\n",
       "    <tr>\n",
       "      <th>3</th>\n",
       "      <td>1.0</td>\n",
       "      <td>8.141190</td>\n",
       "    </tr>\n",
       "    <tr>\n",
       "      <th>4</th>\n",
       "      <td>1.0</td>\n",
       "      <td>8.145840</td>\n",
       "    </tr>\n",
       "    <tr>\n",
       "      <th>5</th>\n",
       "      <td>1.0</td>\n",
       "      <td>8.375860</td>\n",
       "    </tr>\n",
       "  </tbody>\n",
       "</table>\n",
       "</div>"
      ],
      "text/plain": [
       "   const  log_Weight\n",
       "1    1.0    8.214194\n",
       "2    1.0    8.142063\n",
       "3    1.0    8.141190\n",
       "4    1.0    8.145840\n",
       "5    1.0    8.375860"
      ]
     },
     "execution_count": 47,
     "metadata": {},
     "output_type": "execute_result"
    }
   ],
   "source": [
    "X_train.head()"
   ]
  },
  {
   "cell_type": "code",
   "execution_count": 48,
   "metadata": {},
   "outputs": [
    {
     "data": {
      "text/html": [
       "<table class=\"simpletable\">\n",
       "<caption>OLS Regression Results</caption>\n",
       "<tr>\n",
       "  <th>Dep. Variable:</th>         <td>log_MPG</td>     <th>  R-squared:         </th> <td>   0.752</td>\n",
       "</tr>\n",
       "<tr>\n",
       "  <th>Model:</th>                   <td>OLS</td>       <th>  Adj. R-squared:    </th> <td>   0.751</td>\n",
       "</tr>\n",
       "<tr>\n",
       "  <th>Method:</th>             <td>Least Squares</td>  <th>  F-statistic:       </th> <td>   839.2</td>\n",
       "</tr>\n",
       "<tr>\n",
       "  <th>Date:</th>             <td>Thu, 24 Oct 2019</td> <th>  Prob (F-statistic):</th> <td>8.18e-86</td>\n",
       "</tr>\n",
       "<tr>\n",
       "  <th>Time:</th>                 <td>23:44:59</td>     <th>  Log-Likelihood:    </th> <td>  99.393</td>\n",
       "</tr>\n",
       "<tr>\n",
       "  <th>No. Observations:</th>      <td>   279</td>      <th>  AIC:               </th> <td>  -194.8</td>\n",
       "</tr>\n",
       "<tr>\n",
       "  <th>Df Residuals:</th>          <td>   277</td>      <th>  BIC:               </th> <td>  -187.5</td>\n",
       "</tr>\n",
       "<tr>\n",
       "  <th>Df Model:</th>              <td>     1</td>      <th>                     </th>     <td> </td>   \n",
       "</tr>\n",
       "<tr>\n",
       "  <th>Covariance Type:</th>      <td>nonrobust</td>    <th>                     </th>     <td> </td>   \n",
       "</tr>\n",
       "</table>\n",
       "<table class=\"simpletable\">\n",
       "<tr>\n",
       "       <td></td>         <th>coef</th>     <th>std err</th>      <th>t</th>      <th>P>|t|</th>  <th>[0.025</th>    <th>0.975]</th>  \n",
       "</tr>\n",
       "<tr>\n",
       "  <th>const</th>      <td>   11.5449</td> <td>    0.291</td> <td>   39.610</td> <td> 0.000</td> <td>   10.971</td> <td>   12.119</td>\n",
       "</tr>\n",
       "<tr>\n",
       "  <th>log_Weight</th> <td>   -1.0612</td> <td>    0.037</td> <td>  -28.969</td> <td> 0.000</td> <td>   -1.133</td> <td>   -0.989</td>\n",
       "</tr>\n",
       "</table>\n",
       "<table class=\"simpletable\">\n",
       "<tr>\n",
       "  <th>Omnibus:</th>       <td> 6.839</td> <th>  Durbin-Watson:     </th> <td>   0.744</td>\n",
       "</tr>\n",
       "<tr>\n",
       "  <th>Prob(Omnibus):</th> <td> 0.033</td> <th>  Jarque-Bera (JB):  </th> <td>   8.606</td>\n",
       "</tr>\n",
       "<tr>\n",
       "  <th>Skew:</th>          <td> 0.200</td> <th>  Prob(JB):          </th> <td>  0.0135</td>\n",
       "</tr>\n",
       "<tr>\n",
       "  <th>Kurtosis:</th>      <td> 3.762</td> <th>  Cond. No.          </th> <td>    231.</td>\n",
       "</tr>\n",
       "</table>"
      ],
      "text/plain": [
       "<class 'statsmodels.iolib.summary.Summary'>\n",
       "\"\"\"\n",
       "                            OLS Regression Results                            \n",
       "==============================================================================\n",
       "Dep. Variable:                log_MPG   R-squared:                       0.752\n",
       "Model:                            OLS   Adj. R-squared:                  0.751\n",
       "Method:                 Least Squares   F-statistic:                     839.2\n",
       "Date:                Thu, 24 Oct 2019   Prob (F-statistic):           8.18e-86\n",
       "Time:                        23:44:59   Log-Likelihood:                 99.393\n",
       "No. Observations:                 279   AIC:                            -194.8\n",
       "Df Residuals:                     277   BIC:                            -187.5\n",
       "Df Model:                           1                                         \n",
       "Covariance Type:            nonrobust                                         \n",
       "==============================================================================\n",
       "                 coef    std err          t      P>|t|      [0.025      0.975]\n",
       "------------------------------------------------------------------------------\n",
       "const         11.5449      0.291     39.610      0.000      10.971      12.119\n",
       "log_Weight    -1.0612      0.037    -28.969      0.000      -1.133      -0.989\n",
       "==============================================================================\n",
       "Omnibus:                        6.839   Durbin-Watson:                   0.744\n",
       "Prob(Omnibus):                  0.033   Jarque-Bera (JB):                8.606\n",
       "Skew:                           0.200   Prob(JB):                       0.0135\n",
       "Kurtosis:                       3.762   Cond. No.                         231.\n",
       "==============================================================================\n",
       "\n",
       "Warnings:\n",
       "[1] Standard Errors assume that the covariance matrix of the errors is correctly specified.\n",
       "\"\"\""
      ]
     },
     "execution_count": 48,
     "metadata": {},
     "output_type": "execute_result"
    }
   ],
   "source": [
    "model = stm.OLS(y_train,X_train).fit()\n",
    "model.summary()"
   ]
  },
  {
   "cell_type": "markdown",
   "metadata": {},
   "source": [
    "**Model 2:**\n",
    "\n",
    "log(MPG) = 11.5449 - 1.0612 * log(Weight)"
   ]
  },
  {
   "cell_type": "markdown",
   "metadata": {},
   "source": [
    "**Interpretation**\n",
    "\n",
    "With one unit increase in log(Weight) the log(MPG) decreases by 1.0612 units."
   ]
  },
  {
   "cell_type": "code",
   "execution_count": null,
   "metadata": {},
   "outputs": [],
   "source": [
    "y_test[:10]"
   ]
  },
  {
   "cell_type": "code",
   "execution_count": null,
   "metadata": {},
   "outputs": [],
   "source": [
    "#Making Predicting on test data\n",
    "X_test = stm.add_constant(X_test)\n",
    "pred = model.predict(X_test)\n",
    "pred[:10]"
   ]
  },
  {
   "cell_type": "code",
   "execution_count": null,
   "metadata": {},
   "outputs": [],
   "source": [
    "#RMSE\n",
    "math.sqrt(sum((y_test - pred)**2)/(len(y_test)-1))"
   ]
  },
  {
   "cell_type": "code",
   "execution_count": null,
   "metadata": {},
   "outputs": [],
   "source": [
    "0.1531/np.mean(y_test)"
   ]
  },
  {
   "cell_type": "code",
   "execution_count": null,
   "metadata": {},
   "outputs": [],
   "source": [
    "np.mean(y_test)"
   ]
  },
  {
   "cell_type": "code",
   "execution_count": null,
   "metadata": {},
   "outputs": [],
   "source": [
    "#RSS\n",
    "np.sum((np.exp(pred) - np.exp(y_test))**2)"
   ]
  },
  {
   "cell_type": "code",
   "execution_count": null,
   "metadata": {},
   "outputs": [],
   "source": [
    "#RMSE\n",
    "math.sqrt(np.sum((np.exp(pred) - np.exp(y_test))**2)/(len(y_test)-1))"
   ]
  },
  {
   "cell_type": "code",
   "execution_count": null,
   "metadata": {},
   "outputs": [],
   "source": [
    "#Check the diagnostic plot\n"
   ]
  },
  {
   "cell_type": "code",
   "execution_count": null,
   "metadata": {},
   "outputs": [],
   "source": []
  },
  {
   "cell_type": "markdown",
   "metadata": {},
   "source": [
    "### Multiple Linear Regression Model"
   ]
  },
  {
   "cell_type": "code",
   "execution_count": null,
   "metadata": {},
   "outputs": [],
   "source": [
    "#Pairwise Scatter plot\n",
    "\n",
    "from pandas.tools.plotting import scatter_matrix\n",
    "scatter_matrix(cars2[[\"MPG\", \"Weight\", \"Horsepower\"]], alpha=0.75, figsize=(10, 8), diagonal='kde')\n",
    "plt.show()"
   ]
  },
  {
   "cell_type": "code",
   "execution_count": null,
   "metadata": {},
   "outputs": [],
   "source": [
    "#Let us remove the observations for which MPG is 0\n",
    "cars2 = cars.loc[(cars.MPG != 0) & (cars.Horsepower !=0), ]"
   ]
  },
  {
   "cell_type": "code",
   "execution_count": null,
   "metadata": {},
   "outputs": [],
   "source": [
    "cars2.isnull().sum()"
   ]
  },
  {
   "cell_type": "code",
   "execution_count": null,
   "metadata": {},
   "outputs": [],
   "source": [
    "cars2[['MPG','Horsepower']].describe().transpose()"
   ]
  },
  {
   "cell_type": "code",
   "execution_count": null,
   "metadata": {},
   "outputs": [],
   "source": [
    "#cars2.head()"
   ]
  },
  {
   "cell_type": "code",
   "execution_count": null,
   "metadata": {},
   "outputs": [],
   "source": [
    "cars2.shape"
   ]
  },
  {
   "cell_type": "code",
   "execution_count": null,
   "metadata": {},
   "outputs": [],
   "source": [
    "#Creating log transformed features\n",
    "cars2['log_MPG'] = np.log(cars2.MPG)\n",
    "cars2['log_Weight'] = np.log(cars2.Weight)\n",
    "cars2['log_Horsepower'] = np.log(cars2.Horsepower)\n",
    "cars2.head()"
   ]
  },
  {
   "cell_type": "code",
   "execution_count": null,
   "metadata": {},
   "outputs": [],
   "source": [
    "#Pairwise Scatter plot\n",
    "\n",
    "from pandas.tools.plotting import scatter_matrix\n",
    "scatter_matrix(cars2[[\"log_MPG\", \"log_Weight\", \"log_Horsepower\"]], alpha=0.75, figsize=(10, 8), diagonal='hist')\n",
    "plt.show()"
   ]
  },
  {
   "cell_type": "code",
   "execution_count": null,
   "metadata": {},
   "outputs": [],
   "source": [
    "#Randomly divide the data into train (70%) and test (30%)\n",
    "\n",
    "#Step 1 - Select 0.7*398 random numbers between 1 and 406 (with some of the numbers removed in between)\n",
    "np.random.seed(0)\n",
    "train = np.random.choice(cars2.index, round(0.7*392), replace=False)\n",
    "train.sort()\n",
    "\n",
    "\n",
    "#Step 3 - Get the indices for the test data\n",
    "test = []\n",
    "for i in list(cars2.index):\n",
    "    if i not in train:\n",
    "        test.append(i)\n",
    "        \n",
    "test = np.array(test)\n",
    "test.sort()\n",
    "#test\n"
   ]
  },
  {
   "cell_type": "code",
   "execution_count": null,
   "metadata": {},
   "outputs": [],
   "source": [
    "#Creating the train and test data\n",
    "\n",
    "#Training Data\n",
    "X_train = cars2.loc[train, ['log_Weight', 'log_Horsepower']]\n",
    "y_train = cars2.loc[train, 'log_MPG']\n",
    "\n",
    "#Test Data\n",
    "X_test = cars2.loc[test, ['log_Weight', 'log_Horsepower']]\n",
    "y_test = cars2.loc[test, 'log_MPG']\n",
    "\n",
    "#Adding a column for constant\n",
    "X_train = stm.add_constant(X_train)\n",
    "X_train.head()"
   ]
  },
  {
   "cell_type": "code",
   "execution_count": null,
   "metadata": {},
   "outputs": [],
   "source": [
    "#cars2.isnull().sum()"
   ]
  },
  {
   "cell_type": "code",
   "execution_count": null,
   "metadata": {},
   "outputs": [],
   "source": [
    "#y_train.isnull().sum()"
   ]
  },
  {
   "cell_type": "code",
   "execution_count": null,
   "metadata": {},
   "outputs": [],
   "source": [
    "model = stm.OLS(y_train,X_train).fit()\n",
    "model.summary()"
   ]
  },
  {
   "cell_type": "code",
   "execution_count": null,
   "metadata": {},
   "outputs": [],
   "source": [
    "#Making Predicting on test data\n",
    "X_test = stm.add_constant(X_test)\n",
    "pred = model.predict(X_test)\n",
    "\n",
    "#RSS\n",
    "np.sum((np.exp(pred) - np.exp(y_test))**2)"
   ]
  },
  {
   "cell_type": "code",
   "execution_count": null,
   "metadata": {},
   "outputs": [],
   "source": [
    "math.sqrt(np.sum((np.exp(pred) - np.exp(y_test))**2)/len(test)-1)"
   ]
  },
  {
   "cell_type": "code",
   "execution_count": null,
   "metadata": {},
   "outputs": [],
   "source": [
    "3.37714/np.mean(np.exp(y_test))*100"
   ]
  },
  {
   "cell_type": "markdown",
   "metadata": {
    "collapsed": true
   },
   "source": [
    "### Plotting Linear Regression Line using sklearn Package"
   ]
  },
  {
   "cell_type": "code",
   "execution_count": null,
   "metadata": {},
   "outputs": [],
   "source": [
    "from sklearn.linear_model import LinearRegression"
   ]
  },
  {
   "cell_type": "code",
   "execution_count": null,
   "metadata": {},
   "outputs": [],
   "source": [
    "lm = LinearRegression()\n",
    "lm"
   ]
  },
  {
   "cell_type": "code",
   "execution_count": null,
   "metadata": {},
   "outputs": [],
   "source": [
    "#Creating the train and test data\n",
    "\n",
    "#Training Data\n",
    "X_train = cars2.loc[train, ['Weight']]\n",
    "y_train = cars2.loc[train, 'MPG']\n",
    "\n",
    "#Test Data\n",
    "X_test = cars2.loc[test, ['Weight']]\n",
    "y_test = cars2.loc[test, 'MPG']\n"
   ]
  },
  {
   "cell_type": "code",
   "execution_count": null,
   "metadata": {},
   "outputs": [],
   "source": [
    "#Fitting the linear regression model\n",
    "lm.fit(X_train,y_train)"
   ]
  },
  {
   "cell_type": "code",
   "execution_count": null,
   "metadata": {},
   "outputs": [],
   "source": [
    "#Printing the intercept\n",
    "lm.intercept_"
   ]
  },
  {
   "cell_type": "code",
   "execution_count": null,
   "metadata": {},
   "outputs": [],
   "source": [
    "#Printing the coefficient\n",
    "lm.coef_"
   ]
  },
  {
   "cell_type": "code",
   "execution_count": null,
   "metadata": {},
   "outputs": [],
   "source": [
    "#Making prediction on the test data\n",
    "lm.predict(X_test)"
   ]
  },
  {
   "cell_type": "code",
   "execution_count": null,
   "metadata": {},
   "outputs": [],
   "source": [
    "p = lm.predict(X_test)"
   ]
  },
  {
   "cell_type": "code",
   "execution_count": null,
   "metadata": {},
   "outputs": [],
   "source": [
    "error = (p - y_test)"
   ]
  },
  {
   "cell_type": "code",
   "execution_count": null,
   "metadata": {},
   "outputs": [],
   "source": [
    "math.sqrt(sum(error**2)/(len(test)-1))"
   ]
  },
  {
   "cell_type": "code",
   "execution_count": null,
   "metadata": {},
   "outputs": [],
   "source": []
  }
 ],
 "metadata": {
  "kernelspec": {
   "display_name": "Python 3",
   "language": "python",
   "name": "python3"
  },
  "language_info": {
   "codemirror_mode": {
    "name": "ipython",
    "version": 3
   },
   "file_extension": ".py",
   "mimetype": "text/x-python",
   "name": "python",
   "nbconvert_exporter": "python",
   "pygments_lexer": "ipython3",
   "version": "3.7.4"
  }
 },
 "nbformat": 4,
 "nbformat_minor": 2
}
