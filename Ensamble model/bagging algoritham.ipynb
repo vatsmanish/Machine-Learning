{
 "cells": [
  {
   "cell_type": "code",
   "execution_count": 1,
   "metadata": {},
   "outputs": [],
   "source": [
    "import numpy as np\n",
    "import pandas as pd\n",
    "from sklearn import datasets"
   ]
  },
  {
   "cell_type": "code",
   "execution_count": 2,
   "metadata": {},
   "outputs": [],
   "source": [
    "#for fitting classifier tree\n",
    "from sklearn.tree import DecisionTreeClassifier\n",
    "\n",
    "# for fitting regression tree\n",
    "from sklearn.tree import DecisionTreeClassifier\n",
    "\n",
    "#to create a confusion tree\n",
    "from sklearn.metrics import confusion_matrix"
   ]
  },
  {
   "cell_type": "code",
   "execution_count": 3,
   "metadata": {},
   "outputs": [],
   "source": [
    "import os\n",
    "os.chdir(\"C:\\\\Users\\\\MANDY\\\\Downloads\\\\iris\")"
   ]
  },
  {
   "cell_type": "code",
   "execution_count": 8,
   "metadata": {},
   "outputs": [],
   "source": [
    "iris = pd.read_csv(\"iris.csv\")"
   ]
  },
  {
   "cell_type": "code",
   "execution_count": 10,
   "metadata": {},
   "outputs": [
    {
     "data": {
      "text/html": [
       "<div>\n",
       "<style scoped>\n",
       "    .dataframe tbody tr th:only-of-type {\n",
       "        vertical-align: middle;\n",
       "    }\n",
       "\n",
       "    .dataframe tbody tr th {\n",
       "        vertical-align: top;\n",
       "    }\n",
       "\n",
       "    .dataframe thead th {\n",
       "        text-align: right;\n",
       "    }\n",
       "</style>\n",
       "<table border=\"1\" class=\"dataframe\">\n",
       "  <thead>\n",
       "    <tr style=\"text-align: right;\">\n",
       "      <th></th>\n",
       "      <th>Id</th>\n",
       "      <th>SepalLengthCm</th>\n",
       "      <th>SepalWidthCm</th>\n",
       "      <th>PetalLengthCm</th>\n",
       "      <th>PetalWidthCm</th>\n",
       "      <th>Species</th>\n",
       "    </tr>\n",
       "  </thead>\n",
       "  <tbody>\n",
       "    <tr>\n",
       "      <th>0</th>\n",
       "      <td>1</td>\n",
       "      <td>5.1</td>\n",
       "      <td>3.5</td>\n",
       "      <td>1.4</td>\n",
       "      <td>0.2</td>\n",
       "      <td>Iris-setosa</td>\n",
       "    </tr>\n",
       "    <tr>\n",
       "      <th>1</th>\n",
       "      <td>2</td>\n",
       "      <td>4.9</td>\n",
       "      <td>3.0</td>\n",
       "      <td>1.4</td>\n",
       "      <td>0.2</td>\n",
       "      <td>Iris-setosa</td>\n",
       "    </tr>\n",
       "    <tr>\n",
       "      <th>2</th>\n",
       "      <td>3</td>\n",
       "      <td>4.7</td>\n",
       "      <td>3.2</td>\n",
       "      <td>1.3</td>\n",
       "      <td>0.2</td>\n",
       "      <td>Iris-setosa</td>\n",
       "    </tr>\n",
       "    <tr>\n",
       "      <th>3</th>\n",
       "      <td>4</td>\n",
       "      <td>4.6</td>\n",
       "      <td>3.1</td>\n",
       "      <td>1.5</td>\n",
       "      <td>0.2</td>\n",
       "      <td>Iris-setosa</td>\n",
       "    </tr>\n",
       "    <tr>\n",
       "      <th>4</th>\n",
       "      <td>5</td>\n",
       "      <td>5.0</td>\n",
       "      <td>3.6</td>\n",
       "      <td>1.4</td>\n",
       "      <td>0.2</td>\n",
       "      <td>Iris-setosa</td>\n",
       "    </tr>\n",
       "  </tbody>\n",
       "</table>\n",
       "</div>"
      ],
      "text/plain": [
       "   Id  SepalLengthCm  SepalWidthCm  PetalLengthCm  PetalWidthCm      Species\n",
       "0   1            5.1           3.5            1.4           0.2  Iris-setosa\n",
       "1   2            4.9           3.0            1.4           0.2  Iris-setosa\n",
       "2   3            4.7           3.2            1.3           0.2  Iris-setosa\n",
       "3   4            4.6           3.1            1.5           0.2  Iris-setosa\n",
       "4   5            5.0           3.6            1.4           0.2  Iris-setosa"
      ]
     },
     "execution_count": 10,
     "metadata": {},
     "output_type": "execute_result"
    }
   ],
   "source": [
    "iris.head(5)"
   ]
  },
  {
   "cell_type": "code",
   "execution_count": 11,
   "metadata": {},
   "outputs": [
    {
     "data": {
      "text/plain": [
       "Id                 int64\n",
       "SepalLengthCm    float64\n",
       "SepalWidthCm     float64\n",
       "PetalLengthCm    float64\n",
       "PetalWidthCm     float64\n",
       "Species           object\n",
       "dtype: object"
      ]
     },
     "execution_count": 11,
     "metadata": {},
     "output_type": "execute_result"
    }
   ],
   "source": [
    "iris.dtypes"
   ]
  },
  {
   "cell_type": "code",
   "execution_count": 22,
   "metadata": {},
   "outputs": [
    {
     "data": {
      "text/plain": [
       "Id               0\n",
       "SepalLengthCm    0\n",
       "SepalWidthCm     0\n",
       "PetalLengthCm    0\n",
       "PetalWidthCm     0\n",
       "Species          0\n",
       "dtype: int64"
      ]
     },
     "execution_count": 22,
     "metadata": {},
     "output_type": "execute_result"
    }
   ],
   "source": [
    "iris.isnull().sum()"
   ]
  },
  {
   "cell_type": "code",
   "execution_count": 12,
   "metadata": {},
   "outputs": [],
   "source": [
    "iris1 = iris.drop(['Id'], axis=1)"
   ]
  },
  {
   "cell_type": "code",
   "execution_count": 14,
   "metadata": {},
   "outputs": [
    {
     "name": "stdout",
     "output_type": "stream",
     "text": [
      "[0]\n",
      "[0, 4]\n",
      "[0, 4, 7]\n",
      "[0, 4, 7, 9]\n",
      "[0, 4, 7, 9, 10]\n",
      "[0, 4, 7, 9, 10, 12]\n",
      "[0, 4, 7, 9, 10, 12, 20]\n",
      "[0, 4, 7, 9, 10, 12, 20, 24]\n",
      "[0, 4, 7, 9, 10, 12, 20, 24, 25]\n",
      "[0, 4, 7, 9, 10, 12, 20, 24, 25, 27]\n",
      "[0, 4, 7, 9, 10, 12, 20, 24, 25, 27, 29]\n",
      "[0, 4, 7, 9, 10, 12, 20, 24, 25, 27, 29, 30]\n",
      "[0, 4, 7, 9, 10, 12, 20, 24, 25, 27, 29, 30, 33]\n",
      "[0, 4, 7, 9, 10, 12, 20, 24, 25, 27, 29, 30, 33, 34]\n",
      "[0, 4, 7, 9, 10, 12, 20, 24, 25, 27, 29, 30, 33, 34, 36]\n",
      "[0, 4, 7, 9, 10, 12, 20, 24, 25, 27, 29, 30, 33, 34, 36, 38]\n",
      "[0, 4, 7, 9, 10, 12, 20, 24, 25, 27, 29, 30, 33, 34, 36, 38, 39]\n",
      "[0, 4, 7, 9, 10, 12, 20, 24, 25, 27, 29, 30, 33, 34, 36, 38, 39, 40]\n",
      "[0, 4, 7, 9, 10, 12, 20, 24, 25, 27, 29, 30, 33, 34, 36, 38, 39, 40, 42]\n",
      "[0, 4, 7, 9, 10, 12, 20, 24, 25, 27, 29, 30, 33, 34, 36, 38, 39, 40, 42, 44]\n",
      "[0, 4, 7, 9, 10, 12, 20, 24, 25, 27, 29, 30, 33, 34, 36, 38, 39, 40, 42, 44, 46]\n",
      "[0, 4, 7, 9, 10, 12, 20, 24, 25, 27, 29, 30, 33, 34, 36, 38, 39, 40, 42, 44, 46, 48]\n",
      "[0, 4, 7, 9, 10, 12, 20, 24, 25, 27, 29, 30, 33, 34, 36, 38, 39, 40, 42, 44, 46, 48, 49]\n",
      "[0, 4, 7, 9, 10, 12, 20, 24, 25, 27, 29, 30, 33, 34, 36, 38, 39, 40, 42, 44, 46, 48, 49, 51]\n",
      "[0, 4, 7, 9, 10, 12, 20, 24, 25, 27, 29, 30, 33, 34, 36, 38, 39, 40, 42, 44, 46, 48, 49, 51, 52]\n",
      "[0, 4, 7, 9, 10, 12, 20, 24, 25, 27, 29, 30, 33, 34, 36, 38, 39, 40, 42, 44, 46, 48, 49, 51, 52, 55]\n",
      "[0, 4, 7, 9, 10, 12, 20, 24, 25, 27, 29, 30, 33, 34, 36, 38, 39, 40, 42, 44, 46, 48, 49, 51, 52, 55, 56]\n",
      "[0, 4, 7, 9, 10, 12, 20, 24, 25, 27, 29, 30, 33, 34, 36, 38, 39, 40, 42, 44, 46, 48, 49, 51, 52, 55, 56, 58]\n",
      "[0, 4, 7, 9, 10, 12, 20, 24, 25, 27, 29, 30, 33, 34, 36, 38, 39, 40, 42, 44, 46, 48, 49, 51, 52, 55, 56, 58, 65]\n",
      "[0, 4, 7, 9, 10, 12, 20, 24, 25, 27, 29, 30, 33, 34, 36, 38, 39, 40, 42, 44, 46, 48, 49, 51, 52, 55, 56, 58, 65, 75]\n",
      "[0, 4, 7, 9, 10, 12, 20, 24, 25, 27, 29, 30, 33, 34, 36, 38, 39, 40, 42, 44, 46, 48, 49, 51, 52, 55, 56, 58, 65, 75, 77]\n",
      "[0, 4, 7, 9, 10, 12, 20, 24, 25, 27, 29, 30, 33, 34, 36, 38, 39, 40, 42, 44, 46, 48, 49, 51, 52, 55, 56, 58, 65, 75, 77, 82]\n",
      "[0, 4, 7, 9, 10, 12, 20, 24, 25, 27, 29, 30, 33, 34, 36, 38, 39, 40, 42, 44, 46, 48, 49, 51, 52, 55, 56, 58, 65, 75, 77, 82, 84]\n",
      "[0, 4, 7, 9, 10, 12, 20, 24, 25, 27, 29, 30, 33, 34, 36, 38, 39, 40, 42, 44, 46, 48, 49, 51, 52, 55, 56, 58, 65, 75, 77, 82, 84, 86]\n",
      "[0, 4, 7, 9, 10, 12, 20, 24, 25, 27, 29, 30, 33, 34, 36, 38, 39, 40, 42, 44, 46, 48, 49, 51, 52, 55, 56, 58, 65, 75, 77, 82, 84, 86, 90]\n",
      "[0, 4, 7, 9, 10, 12, 20, 24, 25, 27, 29, 30, 33, 34, 36, 38, 39, 40, 42, 44, 46, 48, 49, 51, 52, 55, 56, 58, 65, 75, 77, 82, 84, 86, 90, 91]\n",
      "[0, 4, 7, 9, 10, 12, 20, 24, 25, 27, 29, 30, 33, 34, 36, 38, 39, 40, 42, 44, 46, 48, 49, 51, 52, 55, 56, 58, 65, 75, 77, 82, 84, 86, 90, 91, 92]\n",
      "[0, 4, 7, 9, 10, 12, 20, 24, 25, 27, 29, 30, 33, 34, 36, 38, 39, 40, 42, 44, 46, 48, 49, 51, 52, 55, 56, 58, 65, 75, 77, 82, 84, 86, 90, 91, 92, 93]\n",
      "[0, 4, 7, 9, 10, 12, 20, 24, 25, 27, 29, 30, 33, 34, 36, 38, 39, 40, 42, 44, 46, 48, 49, 51, 52, 55, 56, 58, 65, 75, 77, 82, 84, 86, 90, 91, 92, 93, 95]\n",
      "[0, 4, 7, 9, 10, 12, 20, 24, 25, 27, 29, 30, 33, 34, 36, 38, 39, 40, 42, 44, 46, 48, 49, 51, 52, 55, 56, 58, 65, 75, 77, 82, 84, 86, 90, 91, 92, 93, 95, 98]\n",
      "[0, 4, 7, 9, 10, 12, 20, 24, 25, 27, 29, 30, 33, 34, 36, 38, 39, 40, 42, 44, 46, 48, 49, 51, 52, 55, 56, 58, 65, 75, 77, 82, 84, 86, 90, 91, 92, 93, 95, 98, 101]\n",
      "[0, 4, 7, 9, 10, 12, 20, 24, 25, 27, 29, 30, 33, 34, 36, 38, 39, 40, 42, 44, 46, 48, 49, 51, 52, 55, 56, 58, 65, 75, 77, 82, 84, 86, 90, 91, 92, 93, 95, 98, 101, 102]\n",
      "[0, 4, 7, 9, 10, 12, 20, 24, 25, 27, 29, 30, 33, 34, 36, 38, 39, 40, 42, 44, 46, 48, 49, 51, 52, 55, 56, 58, 65, 75, 77, 82, 84, 86, 90, 91, 92, 93, 95, 98, 101, 102, 104]\n",
      "[0, 4, 7, 9, 10, 12, 20, 24, 25, 27, 29, 30, 33, 34, 36, 38, 39, 40, 42, 44, 46, 48, 49, 51, 52, 55, 56, 58, 65, 75, 77, 82, 84, 86, 90, 91, 92, 93, 95, 98, 101, 102, 104, 108]\n",
      "[0, 4, 7, 9, 10, 12, 20, 24, 25, 27, 29, 30, 33, 34, 36, 38, 39, 40, 42, 44, 46, 48, 49, 51, 52, 55, 56, 58, 65, 75, 77, 82, 84, 86, 90, 91, 92, 93, 95, 98, 101, 102, 104, 108, 113]\n",
      "[0, 4, 7, 9, 10, 12, 20, 24, 25, 27, 29, 30, 33, 34, 36, 38, 39, 40, 42, 44, 46, 48, 49, 51, 52, 55, 56, 58, 65, 75, 77, 82, 84, 86, 90, 91, 92, 93, 95, 98, 101, 102, 104, 108, 113, 119]\n",
      "[0, 4, 7, 9, 10, 12, 20, 24, 25, 27, 29, 30, 33, 34, 36, 38, 39, 40, 42, 44, 46, 48, 49, 51, 52, 55, 56, 58, 65, 75, 77, 82, 84, 86, 90, 91, 92, 93, 95, 98, 101, 102, 104, 108, 113, 119, 122]\n",
      "[0, 4, 7, 9, 10, 12, 20, 24, 25, 27, 29, 30, 33, 34, 36, 38, 39, 40, 42, 44, 46, 48, 49, 51, 52, 55, 56, 58, 65, 75, 77, 82, 84, 86, 90, 91, 92, 93, 95, 98, 101, 102, 104, 108, 113, 119, 122, 123]\n",
      "[0, 4, 7, 9, 10, 12, 20, 24, 25, 27, 29, 30, 33, 34, 36, 38, 39, 40, 42, 44, 46, 48, 49, 51, 52, 55, 56, 58, 65, 75, 77, 82, 84, 86, 90, 91, 92, 93, 95, 98, 101, 102, 104, 108, 113, 119, 122, 123, 124]\n",
      "[0, 4, 7, 9, 10, 12, 20, 24, 25, 27, 29, 30, 33, 34, 36, 38, 39, 40, 42, 44, 46, 48, 49, 51, 52, 55, 56, 58, 65, 75, 77, 82, 84, 86, 90, 91, 92, 93, 95, 98, 101, 102, 104, 108, 113, 119, 122, 123, 124, 125]\n",
      "[0, 4, 7, 9, 10, 12, 20, 24, 25, 27, 29, 30, 33, 34, 36, 38, 39, 40, 42, 44, 46, 48, 49, 51, 52, 55, 56, 58, 65, 75, 77, 82, 84, 86, 90, 91, 92, 93, 95, 98, 101, 102, 104, 108, 113, 119, 122, 123, 124, 125, 128]\n",
      "[0, 4, 7, 9, 10, 12, 20, 24, 25, 27, 29, 30, 33, 34, 36, 38, 39, 40, 42, 44, 46, 48, 49, 51, 52, 55, 56, 58, 65, 75, 77, 82, 84, 86, 90, 91, 92, 93, 95, 98, 101, 102, 104, 108, 113, 119, 122, 123, 124, 125, 128, 129]\n",
      "[0, 4, 7, 9, 10, 12, 20, 24, 25, 27, 29, 30, 33, 34, 36, 38, 39, 40, 42, 44, 46, 48, 49, 51, 52, 55, 56, 58, 65, 75, 77, 82, 84, 86, 90, 91, 92, 93, 95, 98, 101, 102, 104, 108, 113, 119, 122, 123, 124, 125, 128, 129, 133]\n",
      "[0, 4, 7, 9, 10, 12, 20, 24, 25, 27, 29, 30, 33, 34, 36, 38, 39, 40, 42, 44, 46, 48, 49, 51, 52, 55, 56, 58, 65, 75, 77, 82, 84, 86, 90, 91, 92, 93, 95, 98, 101, 102, 104, 108, 113, 119, 122, 123, 124, 125, 128, 129, 133, 137]\n",
      "[0, 4, 7, 9, 10, 12, 20, 24, 25, 27, 29, 30, 33, 34, 36, 38, 39, 40, 42, 44, 46, 48, 49, 51, 52, 55, 56, 58, 65, 75, 77, 82, 84, 86, 90, 91, 92, 93, 95, 98, 101, 102, 104, 108, 113, 119, 122, 123, 124, 125, 128, 129, 133, 137, 138]\n",
      "[0, 4, 7, 9, 10, 12, 20, 24, 25, 27, 29, 30, 33, 34, 36, 38, 39, 40, 42, 44, 46, 48, 49, 51, 52, 55, 56, 58, 65, 75, 77, 82, 84, 86, 90, 91, 92, 93, 95, 98, 101, 102, 104, 108, 113, 119, 122, 123, 124, 125, 128, 129, 133, 137, 138, 142]\n",
      "[0, 4, 7, 9, 10, 12, 20, 24, 25, 27, 29, 30, 33, 34, 36, 38, 39, 40, 42, 44, 46, 48, 49, 51, 52, 55, 56, 58, 65, 75, 77, 82, 84, 86, 90, 91, 92, 93, 95, 98, 101, 102, 104, 108, 113, 119, 122, 123, 124, 125, 128, 129, 133, 137, 138, 142, 146]\n"
     ]
    }
   ],
   "source": [
    "boot = iris.sample(len(iris1),replace=True)\n",
    "unique_index=np.unique(boot.index)# (63 for train) it will give us \n",
    "test_index=[]\n",
    "for i in iris1.index:\n",
    "    if i not in unique_index:\n",
    "        test_index.append(i)\n",
    "        y_pred = "
   ]
  },
  {
   "cell_type": "code",
   "execution_count": 18,
   "metadata": {},
   "outputs": [
    {
     "ename": "KeyError",
     "evalue": "'data'",
     "output_type": "error",
     "traceback": [
      "\u001b[1;31m---------------------------------------------------------------------------\u001b[0m",
      "\u001b[1;31mKeyError\u001b[0m                                  Traceback (most recent call last)",
      "\u001b[1;32m~\\AppData\\Local\\Continuum\\anaconda3\\lib\\site-packages\\pandas\\core\\indexes\\base.py\u001b[0m in \u001b[0;36mget_loc\u001b[1;34m(self, key, method, tolerance)\u001b[0m\n\u001b[0;32m   2524\u001b[0m             \u001b[1;32mtry\u001b[0m\u001b[1;33m:\u001b[0m\u001b[1;33m\u001b[0m\u001b[0m\n\u001b[1;32m-> 2525\u001b[1;33m                 \u001b[1;32mreturn\u001b[0m \u001b[0mself\u001b[0m\u001b[1;33m.\u001b[0m\u001b[0m_engine\u001b[0m\u001b[1;33m.\u001b[0m\u001b[0mget_loc\u001b[0m\u001b[1;33m(\u001b[0m\u001b[0mkey\u001b[0m\u001b[1;33m)\u001b[0m\u001b[1;33m\u001b[0m\u001b[0m\n\u001b[0m\u001b[0;32m   2526\u001b[0m             \u001b[1;32mexcept\u001b[0m \u001b[0mKeyError\u001b[0m\u001b[1;33m:\u001b[0m\u001b[1;33m\u001b[0m\u001b[0m\n",
      "\u001b[1;32mpandas/_libs/index.pyx\u001b[0m in \u001b[0;36mpandas._libs.index.IndexEngine.get_loc\u001b[1;34m()\u001b[0m\n",
      "\u001b[1;32mpandas/_libs/index.pyx\u001b[0m in \u001b[0;36mpandas._libs.index.IndexEngine.get_loc\u001b[1;34m()\u001b[0m\n",
      "\u001b[1;32mpandas/_libs/hashtable_class_helper.pxi\u001b[0m in \u001b[0;36mpandas._libs.hashtable.PyObjectHashTable.get_item\u001b[1;34m()\u001b[0m\n",
      "\u001b[1;32mpandas/_libs/hashtable_class_helper.pxi\u001b[0m in \u001b[0;36mpandas._libs.hashtable.PyObjectHashTable.get_item\u001b[1;34m()\u001b[0m\n",
      "\u001b[1;31mKeyError\u001b[0m: 'data'",
      "\nDuring handling of the above exception, another exception occurred:\n",
      "\u001b[1;31mKeyError\u001b[0m                                  Traceback (most recent call last)",
      "\u001b[1;32m<ipython-input-18-26d4590996af>\u001b[0m in \u001b[0;36m<module>\u001b[1;34m()\u001b[0m\n\u001b[0;32m      1\u001b[0m \u001b[1;32mfrom\u001b[0m \u001b[0msklearn\u001b[0m\u001b[1;33m.\u001b[0m\u001b[0mensemble\u001b[0m \u001b[1;32mimport\u001b[0m \u001b[0mRandomForestClassifier\u001b[0m\u001b[1;33m\u001b[0m\u001b[0m\n\u001b[0;32m      2\u001b[0m \u001b[0mrnd_clf\u001b[0m \u001b[1;33m=\u001b[0m \u001b[0mRandomForestClassifier\u001b[0m\u001b[1;33m(\u001b[0m\u001b[0mn_estimators\u001b[0m\u001b[1;33m=\u001b[0m\u001b[1;36m500\u001b[0m\u001b[1;33m,\u001b[0m \u001b[0mn_jobs\u001b[0m\u001b[1;33m=\u001b[0m\u001b[1;33m-\u001b[0m\u001b[1;36m1\u001b[0m\u001b[1;33m)\u001b[0m\u001b[1;33m\u001b[0m\u001b[0m\n\u001b[1;32m----> 3\u001b[1;33m \u001b[0mrnd_clf\u001b[0m\u001b[1;33m.\u001b[0m\u001b[0mfit\u001b[0m\u001b[1;33m(\u001b[0m\u001b[0miris\u001b[0m\u001b[1;33m[\u001b[0m\u001b[1;34m\"data\"\u001b[0m\u001b[1;33m]\u001b[0m\u001b[1;33m,\u001b[0m \u001b[0miris\u001b[0m\u001b[1;33m[\u001b[0m\u001b[1;34m\"target\"\u001b[0m\u001b[1;33m]\u001b[0m\u001b[1;33m)\u001b[0m\u001b[1;33m\u001b[0m\u001b[0m\n\u001b[0m\u001b[0;32m      4\u001b[0m \u001b[1;32mfor\u001b[0m \u001b[0mname\u001b[0m\u001b[1;33m,\u001b[0m \u001b[0mscore\u001b[0m \u001b[1;32min\u001b[0m \u001b[0mzip\u001b[0m\u001b[1;33m(\u001b[0m\u001b[0miris\u001b[0m\u001b[1;33m[\u001b[0m\u001b[1;34m\"feature_names\"\u001b[0m\u001b[1;33m]\u001b[0m\u001b[1;33m,\u001b[0m \u001b[0mrnd_clf\u001b[0m\u001b[1;33m.\u001b[0m\u001b[0mfeature_importances_\u001b[0m\u001b[1;33m)\u001b[0m\u001b[1;33m:\u001b[0m\u001b[1;33m\u001b[0m\u001b[0m\n\u001b[0;32m      5\u001b[0m     \u001b[0mprint\u001b[0m\u001b[1;33m(\u001b[0m\u001b[0mname\u001b[0m\u001b[1;33m,\u001b[0m \u001b[0mscore\u001b[0m\u001b[1;33m)\u001b[0m\u001b[1;33m\u001b[0m\u001b[0m\n",
      "\u001b[1;32m~\\AppData\\Local\\Continuum\\anaconda3\\lib\\site-packages\\pandas\\core\\frame.py\u001b[0m in \u001b[0;36m__getitem__\u001b[1;34m(self, key)\u001b[0m\n\u001b[0;32m   2137\u001b[0m             \u001b[1;32mreturn\u001b[0m \u001b[0mself\u001b[0m\u001b[1;33m.\u001b[0m\u001b[0m_getitem_multilevel\u001b[0m\u001b[1;33m(\u001b[0m\u001b[0mkey\u001b[0m\u001b[1;33m)\u001b[0m\u001b[1;33m\u001b[0m\u001b[0m\n\u001b[0;32m   2138\u001b[0m         \u001b[1;32melse\u001b[0m\u001b[1;33m:\u001b[0m\u001b[1;33m\u001b[0m\u001b[0m\n\u001b[1;32m-> 2139\u001b[1;33m             \u001b[1;32mreturn\u001b[0m \u001b[0mself\u001b[0m\u001b[1;33m.\u001b[0m\u001b[0m_getitem_column\u001b[0m\u001b[1;33m(\u001b[0m\u001b[0mkey\u001b[0m\u001b[1;33m)\u001b[0m\u001b[1;33m\u001b[0m\u001b[0m\n\u001b[0m\u001b[0;32m   2140\u001b[0m \u001b[1;33m\u001b[0m\u001b[0m\n\u001b[0;32m   2141\u001b[0m     \u001b[1;32mdef\u001b[0m \u001b[0m_getitem_column\u001b[0m\u001b[1;33m(\u001b[0m\u001b[0mself\u001b[0m\u001b[1;33m,\u001b[0m \u001b[0mkey\u001b[0m\u001b[1;33m)\u001b[0m\u001b[1;33m:\u001b[0m\u001b[1;33m\u001b[0m\u001b[0m\n",
      "\u001b[1;32m~\\AppData\\Local\\Continuum\\anaconda3\\lib\\site-packages\\pandas\\core\\frame.py\u001b[0m in \u001b[0;36m_getitem_column\u001b[1;34m(self, key)\u001b[0m\n\u001b[0;32m   2144\u001b[0m         \u001b[1;31m# get column\u001b[0m\u001b[1;33m\u001b[0m\u001b[1;33m\u001b[0m\u001b[0m\n\u001b[0;32m   2145\u001b[0m         \u001b[1;32mif\u001b[0m \u001b[0mself\u001b[0m\u001b[1;33m.\u001b[0m\u001b[0mcolumns\u001b[0m\u001b[1;33m.\u001b[0m\u001b[0mis_unique\u001b[0m\u001b[1;33m:\u001b[0m\u001b[1;33m\u001b[0m\u001b[0m\n\u001b[1;32m-> 2146\u001b[1;33m             \u001b[1;32mreturn\u001b[0m \u001b[0mself\u001b[0m\u001b[1;33m.\u001b[0m\u001b[0m_get_item_cache\u001b[0m\u001b[1;33m(\u001b[0m\u001b[0mkey\u001b[0m\u001b[1;33m)\u001b[0m\u001b[1;33m\u001b[0m\u001b[0m\n\u001b[0m\u001b[0;32m   2147\u001b[0m \u001b[1;33m\u001b[0m\u001b[0m\n\u001b[0;32m   2148\u001b[0m         \u001b[1;31m# duplicate columns & possible reduce dimensionality\u001b[0m\u001b[1;33m\u001b[0m\u001b[1;33m\u001b[0m\u001b[0m\n",
      "\u001b[1;32m~\\AppData\\Local\\Continuum\\anaconda3\\lib\\site-packages\\pandas\\core\\generic.py\u001b[0m in \u001b[0;36m_get_item_cache\u001b[1;34m(self, item)\u001b[0m\n\u001b[0;32m   1840\u001b[0m         \u001b[0mres\u001b[0m \u001b[1;33m=\u001b[0m \u001b[0mcache\u001b[0m\u001b[1;33m.\u001b[0m\u001b[0mget\u001b[0m\u001b[1;33m(\u001b[0m\u001b[0mitem\u001b[0m\u001b[1;33m)\u001b[0m\u001b[1;33m\u001b[0m\u001b[0m\n\u001b[0;32m   1841\u001b[0m         \u001b[1;32mif\u001b[0m \u001b[0mres\u001b[0m \u001b[1;32mis\u001b[0m \u001b[1;32mNone\u001b[0m\u001b[1;33m:\u001b[0m\u001b[1;33m\u001b[0m\u001b[0m\n\u001b[1;32m-> 1842\u001b[1;33m             \u001b[0mvalues\u001b[0m \u001b[1;33m=\u001b[0m \u001b[0mself\u001b[0m\u001b[1;33m.\u001b[0m\u001b[0m_data\u001b[0m\u001b[1;33m.\u001b[0m\u001b[0mget\u001b[0m\u001b[1;33m(\u001b[0m\u001b[0mitem\u001b[0m\u001b[1;33m)\u001b[0m\u001b[1;33m\u001b[0m\u001b[0m\n\u001b[0m\u001b[0;32m   1843\u001b[0m             \u001b[0mres\u001b[0m \u001b[1;33m=\u001b[0m \u001b[0mself\u001b[0m\u001b[1;33m.\u001b[0m\u001b[0m_box_item_values\u001b[0m\u001b[1;33m(\u001b[0m\u001b[0mitem\u001b[0m\u001b[1;33m,\u001b[0m \u001b[0mvalues\u001b[0m\u001b[1;33m)\u001b[0m\u001b[1;33m\u001b[0m\u001b[0m\n\u001b[0;32m   1844\u001b[0m             \u001b[0mcache\u001b[0m\u001b[1;33m[\u001b[0m\u001b[0mitem\u001b[0m\u001b[1;33m]\u001b[0m \u001b[1;33m=\u001b[0m \u001b[0mres\u001b[0m\u001b[1;33m\u001b[0m\u001b[0m\n",
      "\u001b[1;32m~\\AppData\\Local\\Continuum\\anaconda3\\lib\\site-packages\\pandas\\core\\internals.py\u001b[0m in \u001b[0;36mget\u001b[1;34m(self, item, fastpath)\u001b[0m\n\u001b[0;32m   3841\u001b[0m \u001b[1;33m\u001b[0m\u001b[0m\n\u001b[0;32m   3842\u001b[0m             \u001b[1;32mif\u001b[0m \u001b[1;32mnot\u001b[0m \u001b[0misna\u001b[0m\u001b[1;33m(\u001b[0m\u001b[0mitem\u001b[0m\u001b[1;33m)\u001b[0m\u001b[1;33m:\u001b[0m\u001b[1;33m\u001b[0m\u001b[0m\n\u001b[1;32m-> 3843\u001b[1;33m                 \u001b[0mloc\u001b[0m \u001b[1;33m=\u001b[0m \u001b[0mself\u001b[0m\u001b[1;33m.\u001b[0m\u001b[0mitems\u001b[0m\u001b[1;33m.\u001b[0m\u001b[0mget_loc\u001b[0m\u001b[1;33m(\u001b[0m\u001b[0mitem\u001b[0m\u001b[1;33m)\u001b[0m\u001b[1;33m\u001b[0m\u001b[0m\n\u001b[0m\u001b[0;32m   3844\u001b[0m             \u001b[1;32melse\u001b[0m\u001b[1;33m:\u001b[0m\u001b[1;33m\u001b[0m\u001b[0m\n\u001b[0;32m   3845\u001b[0m                 \u001b[0mindexer\u001b[0m \u001b[1;33m=\u001b[0m \u001b[0mnp\u001b[0m\u001b[1;33m.\u001b[0m\u001b[0marange\u001b[0m\u001b[1;33m(\u001b[0m\u001b[0mlen\u001b[0m\u001b[1;33m(\u001b[0m\u001b[0mself\u001b[0m\u001b[1;33m.\u001b[0m\u001b[0mitems\u001b[0m\u001b[1;33m)\u001b[0m\u001b[1;33m)\u001b[0m\u001b[1;33m[\u001b[0m\u001b[0misna\u001b[0m\u001b[1;33m(\u001b[0m\u001b[0mself\u001b[0m\u001b[1;33m.\u001b[0m\u001b[0mitems\u001b[0m\u001b[1;33m)\u001b[0m\u001b[1;33m]\u001b[0m\u001b[1;33m\u001b[0m\u001b[0m\n",
      "\u001b[1;32m~\\AppData\\Local\\Continuum\\anaconda3\\lib\\site-packages\\pandas\\core\\indexes\\base.py\u001b[0m in \u001b[0;36mget_loc\u001b[1;34m(self, key, method, tolerance)\u001b[0m\n\u001b[0;32m   2525\u001b[0m                 \u001b[1;32mreturn\u001b[0m \u001b[0mself\u001b[0m\u001b[1;33m.\u001b[0m\u001b[0m_engine\u001b[0m\u001b[1;33m.\u001b[0m\u001b[0mget_loc\u001b[0m\u001b[1;33m(\u001b[0m\u001b[0mkey\u001b[0m\u001b[1;33m)\u001b[0m\u001b[1;33m\u001b[0m\u001b[0m\n\u001b[0;32m   2526\u001b[0m             \u001b[1;32mexcept\u001b[0m \u001b[0mKeyError\u001b[0m\u001b[1;33m:\u001b[0m\u001b[1;33m\u001b[0m\u001b[0m\n\u001b[1;32m-> 2527\u001b[1;33m                 \u001b[1;32mreturn\u001b[0m \u001b[0mself\u001b[0m\u001b[1;33m.\u001b[0m\u001b[0m_engine\u001b[0m\u001b[1;33m.\u001b[0m\u001b[0mget_loc\u001b[0m\u001b[1;33m(\u001b[0m\u001b[0mself\u001b[0m\u001b[1;33m.\u001b[0m\u001b[0m_maybe_cast_indexer\u001b[0m\u001b[1;33m(\u001b[0m\u001b[0mkey\u001b[0m\u001b[1;33m)\u001b[0m\u001b[1;33m)\u001b[0m\u001b[1;33m\u001b[0m\u001b[0m\n\u001b[0m\u001b[0;32m   2528\u001b[0m \u001b[1;33m\u001b[0m\u001b[0m\n\u001b[0;32m   2529\u001b[0m         \u001b[0mindexer\u001b[0m \u001b[1;33m=\u001b[0m \u001b[0mself\u001b[0m\u001b[1;33m.\u001b[0m\u001b[0mget_indexer\u001b[0m\u001b[1;33m(\u001b[0m\u001b[1;33m[\u001b[0m\u001b[0mkey\u001b[0m\u001b[1;33m]\u001b[0m\u001b[1;33m,\u001b[0m \u001b[0mmethod\u001b[0m\u001b[1;33m=\u001b[0m\u001b[0mmethod\u001b[0m\u001b[1;33m,\u001b[0m \u001b[0mtolerance\u001b[0m\u001b[1;33m=\u001b[0m\u001b[0mtolerance\u001b[0m\u001b[1;33m)\u001b[0m\u001b[1;33m\u001b[0m\u001b[0m\n",
      "\u001b[1;32mpandas/_libs/index.pyx\u001b[0m in \u001b[0;36mpandas._libs.index.IndexEngine.get_loc\u001b[1;34m()\u001b[0m\n",
      "\u001b[1;32mpandas/_libs/index.pyx\u001b[0m in \u001b[0;36mpandas._libs.index.IndexEngine.get_loc\u001b[1;34m()\u001b[0m\n",
      "\u001b[1;32mpandas/_libs/hashtable_class_helper.pxi\u001b[0m in \u001b[0;36mpandas._libs.hashtable.PyObjectHashTable.get_item\u001b[1;34m()\u001b[0m\n",
      "\u001b[1;32mpandas/_libs/hashtable_class_helper.pxi\u001b[0m in \u001b[0;36mpandas._libs.hashtable.PyObjectHashTable.get_item\u001b[1;34m()\u001b[0m\n",
      "\u001b[1;31mKeyError\u001b[0m: 'data'"
     ]
    }
   ],
   "source": [
    "from sklearn.ensemble import RandomForestClassifier\n",
    "rnd_clf = RandomForestClassifier(n_estimators=500, n_jobs=-1)\n",
    "rnd_clf.fit(iris[\"data\"], iris[\"target\"])\n",
    "for name, score in zip(iris[\"feature_names\"], rnd_clf.feature_importances_):\n",
    "    print(name, score)"
   ]
  }
 ],
 "metadata": {
  "kernelspec": {
   "display_name": "Python 3",
   "language": "python",
   "name": "python3"
  },
  "language_info": {
   "codemirror_mode": {
    "name": "ipython",
    "version": 3
   },
   "file_extension": ".py",
   "mimetype": "text/x-python",
   "name": "python",
   "nbconvert_exporter": "python",
   "pygments_lexer": "ipython3",
   "version": "3.7.4"
  }
 },
 "nbformat": 4,
 "nbformat_minor": 2
}
