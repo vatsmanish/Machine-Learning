{
 "cells": [
  {
   "cell_type": "markdown",
   "metadata": {},
   "source": [
    "### Result 1"
   ]
  },
  {
   "cell_type": "markdown",
   "metadata": {},
   "source": [
    "IF THERE ARE 5 MODELS, EACH WITH PROBABILITY OF MAKING AN ERROR IS 0.2, THEN THE PROBABILITY THAT 3 OR MORE OF THEM WILL MAKE A MISTAKE IS VERY LOW "
   ]
  },
  {
   "cell_type": "code",
   "execution_count": 3,
   "metadata": {
    "collapsed": true
   },
   "outputs": [],
   "source": [
    "import numpy as np"
   ]
  },
  {
   "cell_type": "code",
   "execution_count": 32,
   "metadata": {
    "collapsed": true
   },
   "outputs": [],
   "source": [
    "nCorrPred = []\n",
    "\n",
    "for i in range(0,1000):\n",
    "    pred = []\n",
    "    for j in range(0,5):\n",
    "        pred.append(np.random.choice([0,1], p=[0.8,0.2]))\n",
    "        ncorrect = np.sum(pred)\n",
    "    nCorrPred.append(ncorrect)\n",
    "\n",
    "nCorrPred = np.array(nCorrPred)"
   ]
  },
  {
   "cell_type": "code",
   "execution_count": 33,
   "metadata": {},
   "outputs": [
    {
     "data": {
      "text/plain": [
       "0.052"
      ]
     },
     "execution_count": 33,
     "metadata": {},
     "output_type": "execute_result"
    }
   ],
   "source": [
    "#Probability that at least 3 models will be wrong\n",
    "sum(nCorrPred >= 3)/len(nCorrPred)"
   ]
  },
  {
   "cell_type": "markdown",
   "metadata": {},
   "source": [
    "### Result 2"
   ]
  },
  {
   "cell_type": "markdown",
   "metadata": {},
   "source": [
    "[BOOTSTRAP] ON AVERAGE A BOOTSTRAP SAMPLE CONTAINS APPROXIMATELY 63% OF ORIGINAL TRAINING DATA"
   ]
  },
  {
   "cell_type": "code",
   "execution_count": 37,
   "metadata": {},
   "outputs": [
    {
     "data": {
      "text/plain": [
       "array([-0.32978237, -0.59304423, -1.41759068,  1.64266331,  0.05921754,\n",
       "       -0.38204173,  0.83685518, -1.17425335,  0.05902088,  0.22609027])"
      ]
     },
     "execution_count": 37,
     "metadata": {},
     "output_type": "execute_result"
    }
   ],
   "source": [
    "#Let the original sample consist of 1,000 onservations from the standard normal distribution\n",
    "samp_orig = np.random.normal(size=1000)\n",
    "samp_orig[:10]"
   ]
  },
  {
   "cell_type": "code",
   "execution_count": 44,
   "metadata": {},
   "outputs": [
    {
     "name": "stdout",
     "output_type": "stream",
     "text": [
      "[62.3, 63.1, 62.2, 63.2, 62.5, 64.8, 62.5, 63.1, 62.7, 61.6, 65.6, 64.6, 61.6, 63.3, 63.0, 62.9, 63.1, 62.6, 62.0, 62.0, 63.9, 64.0, 65.7, 61.3, 63.3, 62.5, 63.8, 64.2, 62.8, 62.9, 63.4, 64.0, 63.7, 63.4, 63.7, 63.6, 63.4, 62.1, 61.1, 62.8, 63.0, 61.8, 64.6, 62.0, 61.5, 63.0, 63.5, 61.4, 64.8, 62.8, 61.2, 63.3, 62.1, 63.4, 62.9, 62.8, 63.2, 65.4, 63.1, 62.4, 63.2, 62.9, 63.2, 63.1, 63.0, 64.8, 62.6, 64.1, 63.1, 62.9, 61.6, 63.7, 61.1, 64.2, 64.0, 63.7, 62.3, 63.7, 63.1, 63.2, 63.4, 63.1, 62.9, 63.6, 64.2, 61.6, 65.4, 63.4, 61.8, 63.5, 63.4, 62.2, 64.4, 63.1, 63.3, 62.4, 63.6, 62.9, 64.5, 63.4]\n"
     ]
    }
   ],
   "source": [
    "uniq_samp_prop = []  #We will use this list to store the no. of unique obs. in each bootstrapped sample\n",
    "\n",
    "for i in range(1,1000):\n",
    "    samp_boot = np.random.choice(samp_orig,len(samp_orig))\n",
    "    uniq_samp_prop.append(round(len(np.unique(samp_boot))/len(samp_orig)*100,2))\n",
    "    \n",
    "print(uniq_samp_prop[:100])"
   ]
  },
  {
   "cell_type": "code",
   "execution_count": 46,
   "metadata": {},
   "outputs": [
    {
     "data": {
      "image/png": "[encoded data removed]",
      "text/plain": [
       "<matplotlib.figure.Figure at 0x2707fbf0630>"
      ]
     },
     "metadata": {},
     "output_type": "display_data"
    }
   ],
   "source": [
    "import matplotlib.pyplot as plt\n",
    "plt.hist(uniq_samp_prop)\n",
    "plt.show()"
   ]
  },
  {
   "cell_type": "code",
   "execution_count": 40,
   "metadata": {},
   "outputs": [
    {
     "data": {
      "text/plain": [
       "0.6321351351351352"
      ]
     },
     "execution_count": 40,
     "metadata": {},
     "output_type": "execute_result"
    }
   ],
   "source": [
    "np.mean(uniq_samp_prop)"
   ]
  },
  {
   "cell_type": "code",
   "execution_count": null,
   "metadata": {
    "collapsed": true
   },
   "outputs": [],
   "source": []
  },
  {
   "cell_type": "code",
   "execution_count": 1,
   "metadata": {
    "collapsed": true
   },
   "outputs": [],
   "source": [
    "samp_orig = range(0,100)"
   ]
  },
  {
   "cell_type": "code",
   "execution_count": 4,
   "metadata": {},
   "outputs": [
    {
     "name": "stdout",
     "output_type": "stream",
     "text": [
      "[67.0, 71.0, 61.0, 65.0, 64.0, 65.0, 58.0, 62.0, 66.0, 63.0, 63.0, 66.0, 68.0, 65.0, 62.0, 65.0, 60.0, 57.0, 61.0, 61.0, 61.0, 64.0, 61.0, 62.0, 63.0, 71.0, 58.0, 65.0, 57.0, 68.0, 67.0, 63.0, 68.0, 66.0, 65.0, 62.0, 60.0, 62.0, 60.0, 57.0, 62.0, 62.0, 60.0, 61.0, 70.0, 64.0, 64.0, 65.0, 60.0, 59.0, 60.0, 65.0, 66.0, 58.0, 67.0, 63.0, 63.0, 62.0, 62.0, 61.0, 65.0, 65.0, 64.0, 63.0, 63.0, 65.0, 66.0, 56.0, 57.0, 66.0, 65.0, 62.0, 63.0, 59.0, 58.0, 63.0, 60.0, 65.0, 65.0, 59.0, 66.0, 61.0, 63.0, 65.0, 63.0, 60.0, 61.0, 60.0, 60.0, 61.0, 61.0, 64.0, 60.0, 63.0, 70.0, 63.0, 65.0, 65.0, 61.0, 58.0]\n"
     ]
    }
   ],
   "source": [
    "uniq_samp_prop = []  #We will use this list to store the no. of unique obs. in each bootstrapped sample\n",
    "\n",
    "for i in range(1,1000):\n",
    "    samp_boot = np.random.choice(samp_orig,len(samp_orig))\n",
    "    uniq_samp_prop.append(round(len(np.unique(samp_boot))/len(samp_orig)*100,2))\n",
    "    \n",
    "print(uniq_samp_prop[:100])"
   ]
  },
  {
   "cell_type": "code",
   "execution_count": 5,
   "metadata": {},
   "outputs": [
    {
     "data": {
      "text/plain": [
       "63.247247247247245"
      ]
     },
     "execution_count": 5,
     "metadata": {},
     "output_type": "execute_result"
    }
   ],
   "source": [
    "np.mean(uniq_samp_prop)"
   ]
  },
  {
   "cell_type": "code",
   "execution_count": null,
   "metadata": {
    "collapsed": true
   },
   "outputs": [],
   "source": []
  }
 ],
 "metadata": {
  "kernelspec": {
   "display_name": "Python 3",
   "language": "python",
   "name": "python3"
  },
  "language_info": {
   "codemirror_mode": {
    "name": "ipython",
    "version": 3
   },
   "file_extension": ".py",
   "mimetype": "text/x-python",
   "name": "python",
   "nbconvert_exporter": "python",
   "pygments_lexer": "ipython3",
   "version": "3.7.4"
  }
 },
 "nbformat": 4,
 "nbformat_minor": 2
}
